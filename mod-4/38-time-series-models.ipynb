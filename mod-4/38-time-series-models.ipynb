{
 "cells": [
  {
   "cell_type": "markdown",
   "metadata": {},
   "source": [
    "# Topic 38: Time Series Models\n",
    "\n",
    "https://machinelearningmastery.com/time-series-forecasting-methods-in-python-cheat-sheet/\n",
    "\n",
    "* AR model (autoregression)\n",
    "* MA model (moving average)\n",
    "* ARMA model (autoregression + moving average)\n",
    "* Differencing model\n",
    "* ARIMA model (autoregression + differencing + moving average)\n",
    "* SARIMA model (seasonal ARIMA)\n",
    "* ARIMAX model (ARIMA + exogenous variables)\n",
    "* SARIMAX model (seasonal ARIMA + exogenous variables)"
   ]
  },
  {
   "cell_type": "markdown",
   "metadata": {},
   "source": [
    "## Auto-regressive Time Series Model"
   ]
  },
  {
   "cell_type": "markdown",
   "metadata": {},
   "source": [
    "An autoregression model makes an assumption that the observations at previous time steps are useful to predict the value at the next time step. It is one of the simplest time series models in which we use a linear model to predict the value at the present time using the value at the previous time. "
   ]
  },
  {
   "cell_type": "markdown",
   "metadata": {},
   "source": [
    "<p style='text-align:center; font-size: 30px;'>𝑌<sub>t</sub>=𝜙<sub>1</sub>𝑌<sub>𝑡−1</sub>+𝜖<sub>𝑡</sub></p>"
   ]
  },
  {
   "cell_type": "markdown",
   "metadata": {},
   "source": [
    "The numeral one (1) denotes that the next instance is solely dependent on the previous instance.  The 𝜙(phi) is a coefficient which we seek so as to minimize the error function."
   ]
  },
  {
   "cell_type": "markdown",
   "metadata": {},
   "source": [
    "The order of AR is the number of lag terms we are using to predict the present value (AR(1) uses only 1 lag - one value directly preceding the value you are trying to predict, AR(2) use the two values directly preceding the value you are trying to predict) "
   ]
  },
  {
   "cell_type": "markdown",
   "metadata": {},
   "source": [
    "#### How do we determine the order aka how many lag terms do we include? "
   ]
  },
  {
   "cell_type": "markdown",
   "metadata": {},
   "source": [
    "Using ACF and PACF! "
   ]
  },
  {
   "cell_type": "markdown",
   "metadata": {},
   "source": [
    "<img src='resources/AR(1).png'>"
   ]
  },
  {
   "cell_type": "markdown",
   "metadata": {},
   "source": [
    "### AR(1) Model"
   ]
  },
  {
   "cell_type": "code",
   "execution_count": null,
   "metadata": {},
   "outputs": [],
   "source": [
    "import numpy as np\n",
    "import pandas as pd\n",
    "import matplotlib.pyplot as plt\n",
    "from sklearn.metrics import mean_squared_error\n",
    "\n",
    "from statsmodels.tsa.arima.model import ARIMA\n",
    "\n",
    "#read in csv\n",
    "shampoo = pd.read_csv('resources/shampoo.csv', header=0, usecols=[1]).iloc[:-1]\n",
    "#plot of data to see visualize trends\n",
    "shampoo.plot()"
   ]
  },
  {
   "cell_type": "code",
   "execution_count": null,
   "metadata": {},
   "outputs": [],
   "source": [
    "# train-test-split for time series isn't random!\n",
    "train, test = shampoo.iloc[:24], shampoo.iloc[24:]"
   ]
  },
  {
   "cell_type": "code",
   "execution_count": null,
   "metadata": {},
   "outputs": [],
   "source": [
    "# order = (p, d, q)\n",
    "# p - autoregressive\n",
    "# d - differences\n",
    "# q - moving average\n",
    "\n",
    "ar1 = ARIMA(train, order=(1,0,0)).fit()\n",
    "trainpreds = ar1.predict()\n",
    "testpreds = ar1.forecast(12)"
   ]
  },
  {
   "cell_type": "code",
   "execution_count": null,
   "metadata": {},
   "outputs": [],
   "source": [
    "ar1.summary()"
   ]
  },
  {
   "cell_type": "code",
   "execution_count": null,
   "metadata": {},
   "outputs": [],
   "source": [
    "plt.plot(shampoo, label='shampoo')\n",
    "plt.plot(trainpreds.append(testpreds), label='AR=1')\n",
    "plt.legend()\n",
    "plt.show()"
   ]
  },
  {
   "cell_type": "code",
   "execution_count": null,
   "metadata": {},
   "outputs": [],
   "source": [
    "print('Train RMSE: ', mean_squared_error(train, trainpreds)**0.5)\n",
    "print('Test RMSE: ', mean_squared_error(test, testpreds)**0.5)"
   ]
  },
  {
   "cell_type": "markdown",
   "metadata": {},
   "source": [
    "### AR(2) Model"
   ]
  },
  {
   "cell_type": "code",
   "execution_count": null,
   "metadata": {},
   "outputs": [],
   "source": [
    "ar2 = ARIMA(train, order=(2,0,0)).fit()\n",
    "ar2preds = ar2.predict()\n",
    "ar2.summary()"
   ]
  },
  {
   "cell_type": "code",
   "execution_count": null,
   "metadata": {},
   "outputs": [],
   "source": [
    "plt.plot(shampoo, label='shampoo')\n",
    "plt.plot(ar2preds.append(ar2.forecast(12)), label='AR=2 with 10 day forecast')\n",
    "plt.legend()\n",
    "plt.show()"
   ]
  },
  {
   "cell_type": "code",
   "execution_count": null,
   "metadata": {},
   "outputs": [],
   "source": [
    "print('Train RMSE: ', mean_squared_error(train, ar2.predict())**0.5)\n",
    "print('Test RMSE: ', mean_squared_error(test, ar2.forecast(12))**0.5)"
   ]
  },
  {
   "cell_type": "markdown",
   "metadata": {},
   "source": [
    "## Moving Average Time Series Model"
   ]
  },
  {
   "cell_type": "markdown",
   "metadata": {},
   "source": [
    "Sometimes, a past value is not a useful indicator of what value will come next. Consider a system that is subject to a lot of shocks/volatility. If a previous time period experiences a shock it may cause an error for future predictions if we just that value. A moving average model helps address this behavior. \n",
    "\n",
    "A moving average term in a time series model is a past error (multiplied by a coefficient).\n",
    "\n",
    "An MA model assumes present value is related to errors in the past - includes memory of past errors\n"
   ]
  },
  {
   "cell_type": "markdown",
   "metadata": {},
   "source": [
    "<p style='text-align: center; font-size:30px;'>𝑌<sub>t</sub>=μ + 𝜖<sub>𝑡</sub>+𝜃<sub>1</sub>𝜖<sub>𝑡−1</sub></p>"
   ]
  },
  {
   "cell_type": "markdown",
   "metadata": {},
   "source": [
    "For more details on how this model is fit: https://stats.stackexchange.com/questions/26024/moving-average-model-error-terms/74826#74826 "
   ]
  },
  {
   "cell_type": "markdown",
   "metadata": {},
   "source": [
    "## Differencing Model aka Integrated Model"
   ]
  },
  {
   "cell_type": "markdown",
   "metadata": {},
   "source": [
    "The differenced value is equal to the present value minus the value at the next lag. A time series which needs to be differenced to be made stationary is said to be an \"integrated\" time series."
   ]
  },
  {
   "cell_type": "markdown",
   "metadata": {},
   "source": [
    "<p>If d=0:  y<sub>t</sub>  =  Y<sub>t</sub></p>\n",
    "\n",
    "If d=1:  y<sub>t</sub> =  Y<sub>t</sub> - Y<sub>t-1</sub>\n",
    "\n",
    "If d=2:  y<sub>t</sub> =  (Y<sub>t</sub> - Y<sub>t-1</sub>) - (Y<sub>t-1</sub> - Y<sub>t-2</sub>)  =  Y<sub>t</sub> - 2Y<sub>t-1</sub> + Y<sub>t-2</sub>"
   ]
  },
  {
   "cell_type": "code",
   "execution_count": null,
   "metadata": {},
   "outputs": [],
   "source": [
    "#get differenced values\n",
    "diff = shampoo.diff()\n",
    "diff2 = diff.diff()\n",
    "\n",
    "fig, (ax1, ax2, ax3) = plt.subplots(1, 3, figsize=(16, 5))\n",
    "ax1.plot(shampoo, label='Shampoo')\n",
    "ax2.plot(diff, label='Shampoo, I=1')\n",
    "ax3.plot(diff2, label='Shampoo, I=2')\n",
    "fig.legend()\n",
    "fig.show()"
   ]
  },
  {
   "cell_type": "markdown",
   "metadata": {},
   "source": [
    "## ARIMA"
   ]
  },
  {
   "cell_type": "markdown",
   "metadata": {},
   "source": [
    "Combines AR, Differencing (I), and MA"
   ]
  },
  {
   "cell_type": "markdown",
   "metadata": {},
   "source": [
    "The differenced value is equal to the present value minus the value at the next lag. A time series which needs to be differenced to be made stationary is said to be an \"integrated\" time series."
   ]
  },
  {
   "cell_type": "markdown",
   "metadata": {},
   "source": [
    "<p style ='text-align:center; font-size: 30px;'>𝑌<sub>t</sub>=𝜙<sub>1</sub>𝑌<sub>𝑡−1</sub>+𝜙<sub>2</sub>𝑌<sub>𝑡−2</sub>...𝜙<sub>𝑝</sub>𝑌<sub>t−𝑝</sub>+𝜖<sub>𝑡</sub>+𝜃<sub>1</sub>𝜖<sub>𝑡−1</sub>+𝜃<sub>2</sub>𝜖<sub>𝑡−2</sub>+...𝜃<sub>𝑞</sub>𝜖<sub>𝑡−𝑞</sub></p>\n",
    "\n"
   ]
  },
  {
   "cell_type": "markdown",
   "metadata": {},
   "source": [
    "ARIMA has three main parameters we need to input, p, d, & q\n",
    "\n",
    "<b>p:</b> The number of AR terms we are going to include<br/>\n",
    "<b>d:</b> The number of times we are differencing our data<br/>\n",
    "<b>q:</b> The number MA terms we are going to include"
   ]
  },
  {
   "cell_type": "code",
   "execution_count": null,
   "metadata": {},
   "outputs": [],
   "source": [
    "#perform dickey fuller to see if our data is stationary\n",
    "\n",
    "from statsmodels.tsa.stattools import adfuller\n",
    "dickeyfuller = adfuller(shampoo.values)\n",
    "pd.DataFrame(dickeyfuller[0:4], index=['Test Statistic','p-value','# Lags Used','Number of Observations Used'])\n",
    "# dickeyfuller"
   ]
  },
  {
   "cell_type": "code",
   "execution_count": null,
   "metadata": {},
   "outputs": [],
   "source": [
    "dickeyfuller_differenced"
   ]
  },
  {
   "cell_type": "code",
   "execution_count": null,
   "metadata": {
    "scrolled": true
   },
   "outputs": [],
   "source": [
    "dickeyfuller_differenced = adfuller(shampoo.diff()[1:])\n",
    "pd.DataFrame(dickeyfuller_differenced[0:4], index=['Test Statistic','p-value','#Lags Used','Number of Observations Used'])\n"
   ]
  },
  {
   "cell_type": "code",
   "execution_count": null,
   "metadata": {
    "scrolled": true
   },
   "outputs": [],
   "source": [
    "#ACF/PACF to determine which terms in include (MA or AR or Both?)\n",
    "from statsmodels.graphics.tsaplots import plot_acf, plot_pacf\n",
    "\n",
    "#plot autocorrelation for each lag (alpha is confidence interval)\n",
    "plot_acf(shampoo, alpha=.05)\n",
    "plt.show()"
   ]
  },
  {
   "cell_type": "code",
   "execution_count": null,
   "metadata": {},
   "outputs": [],
   "source": [
    "plot_pacf(shampoo, alpha=.05)\n",
    "plt.show()"
   ]
  },
  {
   "cell_type": "markdown",
   "metadata": {},
   "source": [
    "## ARIMA implementation"
   ]
  },
  {
   "cell_type": "code",
   "execution_count": null,
   "metadata": {
    "scrolled": false
   },
   "outputs": [],
   "source": [
    "from statsmodels.tsa.arima_model import ARIMA\n",
    "#fit ARIMA model (2,1,1))\n",
    "\n",
    "arima1 = ARIMA(train, order=(2,1,1)).fit()\n",
    "trainpreds = np.append(np.array([0, 0]), np.array(arima1.predict()))\n",
    "testpreds = arima1.forecast(12)[0]\n",
    "arima1.summary()"
   ]
  },
  {
   "cell_type": "code",
   "execution_count": null,
   "metadata": {},
   "outputs": [],
   "source": [
    "trainpreds"
   ]
  },
  {
   "cell_type": "code",
   "execution_count": null,
   "metadata": {},
   "outputs": [],
   "source": [
    "testpreds"
   ]
  },
  {
   "cell_type": "code",
   "execution_count": null,
   "metadata": {},
   "outputs": [],
   "source": [
    "plt.plot(shampoo, label='shampoo')\n",
    "plt.plot(np.append(trainpreds, testpreds), label='ARIMA (2, 1, 0) with 10 day forecast')\n",
    "plt.legend()\n",
    "plt.show()"
   ]
  },
  {
   "cell_type": "code",
   "execution_count": null,
   "metadata": {},
   "outputs": [],
   "source": [
    "print('Train RMSE: ', mean_squared_error(train, trainpreds)**0.5)\n",
    "print('Test RMSE: ', mean_squared_error(test, testpreds)**0.5)"
   ]
  },
  {
   "cell_type": "markdown",
   "metadata": {},
   "source": [
    "## ARIMAX"
   ]
  },
  {
   "cell_type": "markdown",
   "metadata": {},
   "source": [
    "ARIMA with eXogenous variables - extend ARIMA to include additional variables that might have an impact on what we are are trying to forecast. \n",
    "\n",
    "Considerations: \n",
    "\n",
    "1) Does our exogenous variable actually impact our endogenous variable (and not the other way around - use granger causality test) \n",
    "\n",
    "2) Exogenous variables need to be differenced at the same order as the endogenous "
   ]
  },
  {
   "cell_type": "markdown",
   "metadata": {},
   "source": [
    "<img src='resources/seasonal_data.png'/>"
   ]
  },
  {
   "cell_type": "markdown",
   "metadata": {},
   "source": [
    "### Steps to build a (S)ARIMA(X) Model\n",
    "\n",
    "https://www.statsmodels.org/dev/generated/statsmodels.tsa.statespace.sarimax.SARIMAX.html"
   ]
  },
  {
   "cell_type": "markdown",
   "metadata": {},
   "source": [
    "1. Plot data, see if there are trends <br/>\n",
    "2. If trends, remove them (differencing, log transform, etc) <br/>\n",
    "3. If seasonal trends are there determine periodicity. <br/>\n",
    "4. ACF and PACF of  data <br/>\n",
    "5. Determine order of differencing, AR, or MA (or both) <br/>\n",
    "6. Build model and evaluate \n"
   ]
  },
  {
   "cell_type": "code",
   "execution_count": null,
   "metadata": {},
   "outputs": [],
   "source": [
    "from statsmodels.tsa.statespace.sarimax import SARIMAX\n",
    "\n",
    "# SARIMAX(shampoo, exog=None, seasonal_order=(0, 0, 0, 52))"
   ]
  },
  {
   "cell_type": "markdown",
   "metadata": {},
   "source": [
    "# Additional Resources\n",
    "\n",
    "* Modeling cheat sheet: https://machinelearningmastery.com/time-series-forecasting-methods-in-python-cheat-sheet/\n",
    "* AutoARIMA: https://towardsdatascience.com/time-series-forecasting-using-auto-arima-in-python-bb83e49210cd\n",
    "* SARIMAX Project walkthrough: https://towardsdatascience.com/newyork-taxi-demand-forecasting-with-sarimax-using-weather-data-d46c041f3f9c"
   ]
  },
  {
   "cell_type": "code",
   "execution_count": null,
   "metadata": {},
   "outputs": [],
   "source": []
  }
 ],
 "metadata": {
  "kernelspec": {
   "display_name": "Python 3",
   "language": "python",
   "name": "python3"
  },
  "language_info": {
   "codemirror_mode": {
    "name": "ipython",
    "version": 3
   },
   "file_extension": ".py",
   "mimetype": "text/x-python",
   "name": "python",
   "nbconvert_exporter": "python",
   "pygments_lexer": "ipython3",
   "version": "3.7.6"
  },
  "toc": {
   "base_numbering": 1,
   "nav_menu": {},
   "number_sections": false,
   "sideBar": true,
   "skip_h1_title": false,
   "title_cell": "Table of Contents",
   "title_sidebar": "Contents",
   "toc_cell": false,
   "toc_position": {
    "height": "calc(100% - 180px)",
    "left": "10px",
    "top": "150px",
    "width": "195.27px"
   },
   "toc_section_display": true,
   "toc_window_display": true
  }
 },
 "nbformat": 4,
 "nbformat_minor": 2
}
