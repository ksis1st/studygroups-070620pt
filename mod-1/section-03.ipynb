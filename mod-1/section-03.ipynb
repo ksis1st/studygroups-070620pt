{
 "cells": [
  {
   "cell_type": "markdown",
   "metadata": {},
   "source": [
    "# Section 03: Control Flows, Functions & Statistics"
   ]
  },
  {
   "cell_type": "markdown",
   "metadata": {},
   "source": [
    "## Lambdas (for our purposes)"
   ]
  },
  {
   "cell_type": "markdown",
   "metadata": {},
   "source": [
    "lambdas sorting - maps - pandas"
   ]
  },
  {
   "cell_type": "code",
   "execution_count": 1,
   "metadata": {
    "ExecuteTime": {
     "end_time": "2020-07-22T10:03:55.710282Z",
     "start_time": "2020-07-22T10:03:52.858205Z"
    }
   },
   "outputs": [],
   "source": [
    "# 1. Sorting!! i.e. THAT sort function... code from the solutions!\n",
    "\n",
    "import requests\n",
    "macbeth = requests.get('http://www.gutenberg.org/cache/epub/2264/pg2264.txt').text\n",
    "# Split the transcript into words\n",
    "words = macbeth.split()\n",
    "# Create a dictionary\n",
    "word_counts = {}\n",
    "# Iterate through the text of Macbeth\n",
    "for word in words:\n",
    "    # Update word counts\n",
    "    word_counts[word] = word_counts.get(word, 0) + 1 #Get previous entry, update by 1\n",
    "# Convert to a list\n",
    "counts = list(word_counts.items())\n"
   ]
  },
  {
   "cell_type": "code",
   "execution_count": 2,
   "metadata": {
    "ExecuteTime": {
     "end_time": "2020-07-22T10:03:58.009213Z",
     "start_time": "2020-07-22T10:03:57.931260Z"
    }
   },
   "outputs": [
    {
     "data": {
      "text/plain": [
       "[('\\ufeff', 1),\n",
       " ('***The', 2),\n",
       " ('Project', 23),\n",
       " (\"Gutenberg's\", 3),\n",
       " ('Etext', 5),\n",
       " ('of', 395),\n",
       " (\"Shakespeare's\", 6),\n",
       " ('First', 4),\n",
       " ('Folio***', 2),\n",
       " ('********************The', 2),\n",
       " ('Tragedie', 6),\n",
       " ('Macbeth*********************', 2),\n",
       " ('*******************************************************************', 2),\n",
       " ('THIS', 4),\n",
       " ('EBOOK', 2),\n",
       " ('WAS', 1),\n",
       " ('ONE', 1),\n",
       " ('OF', 9),\n",
       " ('PROJECT', 6),\n",
       " (\"GUTENBERG'S\", 1),\n",
       " ('EARLY', 1),\n",
       " ('FILES', 1),\n",
       " ('PRODUCED', 1),\n",
       " ('AT', 1),\n",
       " ('A', 29),\n",
       " ('TIME', 1),\n",
       " ('WHEN', 1),\n",
       " ('PROOFING', 1),\n",
       " ('METHODS', 1),\n",
       " ('AND', 1),\n",
       " ('TOOLS', 1),\n",
       " ('WERE', 1),\n",
       " ('NOT', 6),\n",
       " ('WELL', 1),\n",
       " ('DEVELOPED.', 1),\n",
       " ('THERE', 1),\n",
       " ('IS', 2),\n",
       " ('AN', 1),\n",
       " ('IMPROVED', 1),\n",
       " ('EDITION', 1),\n",
       " ('TITLE', 1),\n",
       " ('WHICH', 1),\n",
       " ('MAY', 3),\n",
       " ('BE', 2),\n",
       " ('VIEWED', 1),\n",
       " ('AS', 2),\n",
       " ('(#1533)', 1),\n",
       " ('at', 54),\n",
       " ('https://www.gutenberg.org/ebooks/1533', 1),\n",
       " ('This', 34),\n",
       " ('is', 185),\n",
       " ('our', 116),\n",
       " ('3rd', 1),\n",
       " ('edition', 2),\n",
       " ('most', 25),\n",
       " ('these', 30),\n",
       " ('plays.', 1),\n",
       " ('See', 3),\n",
       " ('the', 620),\n",
       " ('index.', 1),\n",
       " ('Copyright', 1),\n",
       " ('laws', 2),\n",
       " ('are', 70),\n",
       " ('changing', 1),\n",
       " ('all', 62),\n",
       " ('over', 2),\n",
       " ('world,', 1),\n",
       " ('be', 133),\n",
       " ('sure', 4),\n",
       " ('to', 367),\n",
       " ('check', 3),\n",
       " ('copyright', 8),\n",
       " ('for', 100),\n",
       " ('your', 122),\n",
       " ('country', 1),\n",
       " ('before', 13),\n",
       " ('posting', 1),\n",
       " ('files!!', 1),\n",
       " ('Please', 2),\n",
       " ('take', 18),\n",
       " ('a', 255),\n",
       " ('look', 3),\n",
       " ('important', 1),\n",
       " ('information', 4),\n",
       " ('in', 190),\n",
       " ('this', 108),\n",
       " ('header.', 1),\n",
       " ('We', 32),\n",
       " ('encourage', 1),\n",
       " ('you', 193),\n",
       " ('keep', 2),\n",
       " ('file', 5),\n",
       " ('on', 57),\n",
       " ('own', 1),\n",
       " ('disk,', 2),\n",
       " ('keeping', 1),\n",
       " ('an', 32),\n",
       " ('electronic', 1),\n",
       " ('path', 1),\n",
       " ('open', 2),\n",
       " ('next', 3),\n",
       " ('readers.', 2),\n",
       " ('Do', 10),\n",
       " ('not', 142),\n",
       " ('remove', 1),\n",
       " ('this.', 2),\n",
       " ('**Welcome', 1),\n",
       " ('To', 79),\n",
       " ('The', 131),\n",
       " ('World', 4),\n",
       " ('Free', 2),\n",
       " ('Plain', 1),\n",
       " ('Vanilla', 1),\n",
       " ('Electronic', 1),\n",
       " ('Texts**', 1),\n",
       " ('**Etexts', 1),\n",
       " ('Readable', 1),\n",
       " ('By', 17),\n",
       " ('Both', 5),\n",
       " ('Humans', 1),\n",
       " ('and', 427),\n",
       " ('Computers,', 1),\n",
       " ('Since', 4),\n",
       " ('1971**', 1),\n",
       " ('*These', 1),\n",
       " ('Etexts', 7),\n",
       " ('Prepared', 1),\n",
       " ('Hundreds', 1),\n",
       " ('Volunteers', 1),\n",
       " ('Donations*', 1),\n",
       " ('Information', 2),\n",
       " ('contacting', 1),\n",
       " ('Gutenberg', 15),\n",
       " ('get', 13),\n",
       " ('Etexts,', 1),\n",
       " ('further', 4),\n",
       " ('included', 1),\n",
       " ('below.', 1),\n",
       " ('need', 6),\n",
       " ('donations.', 1),\n",
       " ('Macbeth', 28),\n",
       " ('by', 55),\n",
       " ('William', 1),\n",
       " ('Shakespeare', 3),\n",
       " ('July,', 1),\n",
       " ('2000', 1),\n",
       " ('[Etext', 1),\n",
       " ('#2264]', 1),\n",
       " ('*****This', 1),\n",
       " ('should', 44),\n",
       " ('named', 1),\n",
       " ('2264.txt', 1),\n",
       " ('or', 59),\n",
       " ('2264.zip******', 1),\n",
       " ('usually', 2),\n",
       " ('created', 1),\n",
       " ('from', 59),\n",
       " ('multiple', 1),\n",
       " ('editions,', 1),\n",
       " ('which', 45),\n",
       " ('Public', 1),\n",
       " ('Domain', 1),\n",
       " ('United', 3),\n",
       " ('States,', 1),\n",
       " ('unless', 2),\n",
       " ('notice', 1),\n",
       " ('included.', 1),\n",
       " ('Therefore,', 1),\n",
       " ('we', 66),\n",
       " ('do', 36),\n",
       " ('any', 22),\n",
       " ('books', 2),\n",
       " ('compliance', 1),\n",
       " ('with', 141),\n",
       " ('particular', 1),\n",
       " ('paper', 1),\n",
       " ('edition.', 1),\n",
       " ('now', 28),\n",
       " ('trying', 1),\n",
       " ('release', 4),\n",
       " ('one', 31),\n",
       " ('month', 2),\n",
       " ('advance', 1),\n",
       " ('official', 2),\n",
       " ('dates,', 1),\n",
       " ('leaving', 1),\n",
       " ('time', 26),\n",
       " ('better', 7),\n",
       " ('editing.', 1),\n",
       " ('note:', 1),\n",
       " ('neither', 1),\n",
       " ('list', 2),\n",
       " ('nor', 21),\n",
       " ('its', 3),\n",
       " ('contents', 1),\n",
       " ('final', 1),\n",
       " ('till', 10),\n",
       " ('midnight', 2),\n",
       " ('last', 7),\n",
       " ('day', 10),\n",
       " ('such', 23),\n",
       " ('announcement.', 1),\n",
       " ('date', 4),\n",
       " ('Midnight,', 1),\n",
       " ('Central', 1),\n",
       " ('Time,', 5),\n",
       " ('stated', 1),\n",
       " ('month.', 2),\n",
       " ('preliminary', 1),\n",
       " ('version', 1),\n",
       " ('may', 42),\n",
       " ('often', 7),\n",
       " ('posted', 1),\n",
       " ('suggestion,', 2),\n",
       " ('comment', 1),\n",
       " ('editing', 1),\n",
       " ('those', 22),\n",
       " ('who', 21),\n",
       " ('wish', 6),\n",
       " ('so.', 3),\n",
       " ('have', 19),\n",
       " ('up', 1),\n",
       " ('first', 15),\n",
       " ('[xxxxx10x.xxx]', 1),\n",
       " ('please', 11),\n",
       " ('sizes', 1),\n",
       " ('week', 1),\n",
       " ('ftp', 2),\n",
       " ('program', 2),\n",
       " ('has', 4),\n",
       " ('bug', 1),\n",
       " ('it', 128),\n",
       " ('that', 158),\n",
       " ('scrambles', 1),\n",
       " ('[tried', 1),\n",
       " ('fix', 1),\n",
       " ('failed]', 1),\n",
       " ('size', 1),\n",
       " ('will', 67),\n",
       " ('do,', 4),\n",
       " ('but', 63),\n",
       " ('try', 2),\n",
       " ('see', 28),\n",
       " ('new', 10),\n",
       " ('copy', 7),\n",
       " ('least', 4),\n",
       " ('byte', 1),\n",
       " ('more', 38),\n",
       " ('less.', 1),\n",
       " ('about', 13),\n",
       " ('(one', 1),\n",
       " ('page)', 1),\n",
       " ('produce', 2),\n",
       " ('two', 9),\n",
       " ('million', 4),\n",
       " ('dollars', 2),\n",
       " ('each', 12),\n",
       " ('hour', 2),\n",
       " ('work.', 1),\n",
       " ('takes', 5),\n",
       " ('us,', 2),\n",
       " ('rather', 7),\n",
       " ('conservative', 1),\n",
       " ('estimate,', 1),\n",
       " ('fifty', 1),\n",
       " ('hours', 1),\n",
       " ('etext', 17),\n",
       " ('selected,', 1),\n",
       " ('entered,', 1),\n",
       " ('proofread,', 1),\n",
       " ('edited,', 1),\n",
       " ('searched', 1),\n",
       " ('analyzed,', 1),\n",
       " ('letters', 2),\n",
       " ('written,', 1),\n",
       " ('etc.', 2),\n",
       " ('projected', 1),\n",
       " ('audience', 1),\n",
       " ('hundred', 2),\n",
       " ('If', 37),\n",
       " ('value', 1),\n",
       " ('per', 3),\n",
       " ('text', 3),\n",
       " ('nominally', 1),\n",
       " ('estimated', 1),\n",
       " ('dollar', 1),\n",
       " ('then', 35),\n",
       " ('$2', 1),\n",
       " ('year', 1),\n",
       " ('as', 67),\n",
       " ('thirty-six', 1),\n",
       " ('files', 1),\n",
       " ('month,', 1),\n",
       " ('432', 1),\n",
       " ('1999', 1),\n",
       " ('total', 2),\n",
       " ('2000+', 1),\n",
       " ('reach', 3),\n",
       " ('just', 2),\n",
       " ('10%', 1),\n",
       " ('computerized', 1),\n",
       " ('population,', 1),\n",
       " ('200', 1),\n",
       " ('billion', 1),\n",
       " ('given', 1),\n",
       " ('away', 6),\n",
       " ('year.', 1),\n",
       " ('Goal', 1),\n",
       " ('Give', 1),\n",
       " ('Away', 1),\n",
       " ('One', 3),\n",
       " ('Trillion', 1),\n",
       " ('Files', 1),\n",
       " ('December', 1),\n",
       " ('31,', 1),\n",
       " ('2001.', 1),\n",
       " ('[10,000', 1),\n",
       " ('x', 1),\n",
       " ('100,000,000', 1),\n",
       " ('=', 2),\n",
       " ('1', 12),\n",
       " ('Trillion]', 1),\n",
       " ('ten', 5),\n",
       " ('thousand', 5),\n",
       " ('titles', 1),\n",
       " ('readers,', 1),\n",
       " ('only', 4),\n",
       " ('~5%', 1),\n",
       " ('present', 4),\n",
       " ('number', 2),\n",
       " ('computer', 3),\n",
       " ('users.', 1),\n",
       " ('At', 8),\n",
       " ('revised', 1),\n",
       " ('rates', 1),\n",
       " ('production,', 1),\n",
       " ('one-third', 1),\n",
       " ('goal', 1),\n",
       " ('end', 3),\n",
       " ('2001,', 1),\n",
       " ('3,333', 1),\n",
       " ('manage', 1),\n",
       " ('some', 17),\n",
       " ('real', 1),\n",
       " ('funding;', 1),\n",
       " ('currently', 1),\n",
       " ('funding', 1),\n",
       " ('mostly', 1),\n",
       " ('Michael', 4),\n",
       " (\"Hart's\", 1),\n",
       " ('salary', 2),\n",
       " ('Carnegie-Mellon', 3),\n",
       " ('University,', 1),\n",
       " ('assortment', 2),\n",
       " ('sporadic', 1),\n",
       " ('gifts;', 1),\n",
       " ('good', 34),\n",
       " ('few', 3),\n",
       " ('years,', 1),\n",
       " ('so', 58),\n",
       " ('looking', 1),\n",
       " ('something', 5),\n",
       " ('replace', 1),\n",
       " ('it,', 17),\n",
       " (\"don't\", 3),\n",
       " ('want', 5),\n",
       " ('dependent', 1),\n",
       " ('person.', 2),\n",
       " ('donations', 2),\n",
       " ('than', 7),\n",
       " ('ever!', 1),\n",
       " ('All', 21),\n",
       " ('made', 15),\n",
       " ('\"Project', 3),\n",
       " ('Gutenberg/CMU\":', 1),\n",
       " ('tax', 2),\n",
       " ('deductible', 1),\n",
       " ('extent', 1),\n",
       " ('allowable', 1),\n",
       " ('law.', 1),\n",
       " ('(CMU', 1),\n",
       " ('Carnegie-', 1),\n",
       " ('Mellon', 1),\n",
       " ('University).', 1),\n",
       " ('For', 31),\n",
       " ('other', 26),\n",
       " ('matters,', 2),\n",
       " ('mail', 2),\n",
       " ('to:', 1),\n",
       " ('P.', 1),\n",
       " ('O.', 1),\n",
       " ('Box', 1),\n",
       " ('2782', 1),\n",
       " ('Champaign,', 1),\n",
       " ('IL', 1),\n",
       " ('61825', 1),\n",
       " ('When', 22),\n",
       " ('email', 4),\n",
       " ('fails.', 1),\n",
       " ('.', 21),\n",
       " ('.try', 1),\n",
       " ('Executive', 3),\n",
       " ('Director:', 1),\n",
       " ('S.', 3),\n",
       " ('Hart', 4),\n",
       " ('<hart@pobox.com>', 1),\n",
       " ('hart@pobox.com', 1),\n",
       " ('forwards', 1),\n",
       " ('hart@prairienet.org', 1),\n",
       " ('archive.org', 1),\n",
       " ('if', 26),\n",
       " ('bounces', 2),\n",
       " ('archive.org,', 1),\n",
       " ('I', 326),\n",
       " ('still', 11),\n",
       " ('prairienet.org,', 1),\n",
       " ('resend', 1),\n",
       " ('later', 1),\n",
       " ('on.', 1),\n",
       " ('would', 36),\n",
       " ('prefer', 1),\n",
       " ('send', 5),\n",
       " ('email.', 1),\n",
       " ('******', 1),\n",
       " ('access', 1),\n",
       " ('etexts,', 4),\n",
       " ('use', 3),\n",
       " ('Web', 2),\n",
       " ('browser', 2),\n",
       " ('view', 1),\n",
       " ('http://promo.net/pg.', 1),\n",
       " ('site', 1),\n",
       " ('lists', 1),\n",
       " ('author', 2),\n",
       " ('title,', 1),\n",
       " ('includes', 1),\n",
       " ('how', 14),\n",
       " ('involved', 1),\n",
       " ('Gutenberg.', 1),\n",
       " ('You', 29),\n",
       " ('could', 14),\n",
       " ('also', 4),\n",
       " ('download', 1),\n",
       " ('past', 1),\n",
       " ('Newsletters,', 1),\n",
       " ('subscribe', 1),\n",
       " ('here.', 2),\n",
       " ('major', 1),\n",
       " ('sites,', 1),\n",
       " ('hart@pobox.com,', 1),\n",
       " ('complete', 1),\n",
       " ('various', 3),\n",
       " ('sites.', 1),\n",
       " ('go', 9),\n",
       " ('directly', 2),\n",
       " ('collections,', 1),\n",
       " ('FTP', 2),\n",
       " ('visit', 1),\n",
       " ('mirror', 1),\n",
       " ('(mirror', 1),\n",
       " ('sites', 1),\n",
       " ('available', 3),\n",
       " ('7', 1),\n",
       " ('continents;', 1),\n",
       " ('mirrors', 1),\n",
       " ('listed', 1),\n",
       " ('http://promo.net/pg).', 1),\n",
       " ('Mac', 1),\n",
       " ('users,', 1),\n",
       " ('point', 3),\n",
       " ('click,', 1),\n",
       " ('typing', 1),\n",
       " ('works', 1),\n",
       " ('better.', 1),\n",
       " ('Example', 1),\n",
       " ('session:', 1),\n",
       " ('sunsite.unc.edu', 1),\n",
       " ('login:', 1),\n",
       " ('anonymous', 1),\n",
       " ('password:', 1),\n",
       " ('your@login', 1),\n",
       " ('cd', 2),\n",
       " ('pub/docs/books/gutenberg', 1),\n",
       " ('etext90', 1),\n",
       " ('through', 8),\n",
       " ('etext99', 1),\n",
       " ('dir', 1),\n",
       " ('[to', 4),\n",
       " ('files]', 2),\n",
       " ('mget', 1),\n",
       " ('files.', 1),\n",
       " ('.set', 1),\n",
       " ('bin', 4),\n",
       " ('zip', 1),\n",
       " ('GET', 2),\n",
       " ('GUTINDEX.??', 1),\n",
       " (\"year's\", 1),\n",
       " ('listing', 2),\n",
       " ('books,', 1),\n",
       " ('e.g.,', 1),\n",
       " ('GUTINDEX.99]', 1),\n",
       " ('GUTINDEX.ALL', 1),\n",
       " ('ALL', 2),\n",
       " ('books]', 1),\n",
       " ('***', 3),\n",
       " ('**Information', 1),\n",
       " ('prepared', 2),\n",
       " ('legal', 4),\n",
       " ('advisor**', 1),\n",
       " ('(Three', 1),\n",
       " ('Pages)', 1),\n",
       " ('***START**THE', 1),\n",
       " ('SMALL', 2),\n",
       " ('PRINT!**FOR', 1),\n",
       " ('PUBLIC', 2),\n",
       " ('DOMAIN', 2),\n",
       " ('ETEXTS**START***', 1),\n",
       " ('Why', 24),\n",
       " ('\"Small', 5),\n",
       " ('Print!\"', 5),\n",
       " ('statement', 2),\n",
       " ('here?', 4),\n",
       " ('know:', 1),\n",
       " ('lawyers.', 1),\n",
       " ('They', 13),\n",
       " ('tell', 7),\n",
       " ('us', 2),\n",
       " ('might', 5),\n",
       " ('sue', 1),\n",
       " ('there', 20),\n",
       " ('wrong', 2),\n",
       " ('etext,', 6),\n",
       " ('even', 3),\n",
       " ('got', 3),\n",
       " ('free', 6),\n",
       " ('someone', 1),\n",
       " (\"what's\", 2),\n",
       " ('fault.', 1),\n",
       " ('So,', 2),\n",
       " ('among', 2),\n",
       " ('things,', 5),\n",
       " ('disclaims', 2),\n",
       " ('liability', 2),\n",
       " ('you.', 9),\n",
       " ('It', 24),\n",
       " ('tells', 1),\n",
       " ('can', 27),\n",
       " ('distribute', 5),\n",
       " ('copies', 5),\n",
       " ('to.', 2),\n",
       " ('*BEFORE!*', 1),\n",
       " ('YOU', 7),\n",
       " ('USE', 1),\n",
       " ('OR', 10),\n",
       " ('READ', 1),\n",
       " ('ETEXT', 3),\n",
       " ('using', 2),\n",
       " ('reading', 2),\n",
       " ('part', 3),\n",
       " ('GUTENBERG-tm', 3),\n",
       " ('indicate', 2),\n",
       " ('understand,', 1),\n",
       " ('agree', 2),\n",
       " ('accept', 1),\n",
       " ('statement.', 3),\n",
       " ('not,', 12),\n",
       " ('receive', 4),\n",
       " ('refund', 3),\n",
       " ('money', 2),\n",
       " ('(if', 2),\n",
       " ('any)', 2),\n",
       " ('paid', 5),\n",
       " ('sending', 2),\n",
       " ('request', 3),\n",
       " ('within', 10),\n",
       " ('30', 2),\n",
       " ('days', 3),\n",
       " ('receiving', 2),\n",
       " ('person', 6),\n",
       " ('from.', 2),\n",
       " ('received', 4),\n",
       " ('physical', 2),\n",
       " ('medium', 3),\n",
       " ('(such', 1),\n",
       " ('disk),', 1),\n",
       " ('must', 35),\n",
       " ('return', 2),\n",
       " ('request.', 1),\n",
       " ('ABOUT', 1),\n",
       " ('GUTENBERG-TM', 1),\n",
       " ('ETEXTS', 1),\n",
       " ('like', 33),\n",
       " ('GUTENBERG-', 1),\n",
       " ('tm', 1),\n",
       " ('\"public', 1),\n",
       " ('domain\"', 1),\n",
       " ('work', 1),\n",
       " ('distributed', 1),\n",
       " ('Professor', 1),\n",
       " ('Association', 2),\n",
       " ('University', 2),\n",
       " ('(the', 1),\n",
       " ('\"Project\").', 1),\n",
       " ('Among', 3),\n",
       " ('means', 1),\n",
       " ('no', 51),\n",
       " ('owns', 1),\n",
       " ('States', 2),\n",
       " ('work,', 2),\n",
       " ('(and', 2),\n",
       " ('you!)', 1),\n",
       " ('without', 12),\n",
       " ('permission', 1),\n",
       " ('paying', 1),\n",
       " ('royalties.', 1),\n",
       " ('Special', 1),\n",
       " ('rules,', 1),\n",
       " ('set', 8),\n",
       " ('forth', 7),\n",
       " ('below,', 3),\n",
       " ('apply', 3),\n",
       " ('under', 1),\n",
       " (\"Project's\", 2),\n",
       " ('\"PROJECT', 2),\n",
       " ('GUTENBERG\"', 1),\n",
       " ('trademark.', 1),\n",
       " ('create', 2),\n",
       " ('expends', 1),\n",
       " ('considerable', 1),\n",
       " ('efforts', 1),\n",
       " ('identify,', 1),\n",
       " ('transcribe', 1),\n",
       " ('proofread', 1),\n",
       " ('public', 2),\n",
       " ('domain', 2),\n",
       " ('works.', 1),\n",
       " ('Despite', 1),\n",
       " ('efforts,', 1),\n",
       " ('etexts', 1),\n",
       " ('they', 64),\n",
       " ('contain', 2),\n",
       " ('\"Defects\".', 1),\n",
       " ('Defects', 1),\n",
       " ('form', 4),\n",
       " ('incomplete,', 1),\n",
       " ('inaccurate', 1),\n",
       " ('corrupt', 1),\n",
       " ('data,', 1),\n",
       " ('transcription', 1),\n",
       " ('errors,', 5),\n",
       " ('intellectual', 1),\n",
       " ('property', 1),\n",
       " ('infringement,', 1),\n",
       " ('defective', 1),\n",
       " ('damaged', 1),\n",
       " ('disk', 1),\n",
       " ('medium,', 2),\n",
       " ('virus,', 1),\n",
       " ('codes', 1),\n",
       " ('damage', 1),\n",
       " ('cannot', 19),\n",
       " ('read', 4),\n",
       " ('equipment.', 1),\n",
       " ('LIMITED', 3),\n",
       " ('WARRANTY;', 1),\n",
       " ('DISCLAIMER', 1),\n",
       " ('DAMAGES', 1),\n",
       " ('But', 61),\n",
       " ('\"Right', 1),\n",
       " ('Replacement', 1),\n",
       " ('Refund\"', 1),\n",
       " ('described', 1),\n",
       " ('[1]', 3),\n",
       " ('party', 1),\n",
       " ('etext)', 1),\n",
       " ('damages,', 2),\n",
       " ('costs', 1),\n",
       " ('expenses,', 1),\n",
       " ('including', 3),\n",
       " ('fees,', 2),\n",
       " ('[2]', 3),\n",
       " ('HAVE', 2),\n",
       " ('NO', 2),\n",
       " ('REMEDIES', 1),\n",
       " ('FOR', 4),\n",
       " ('NEGLIGENCE', 1),\n",
       " ('UNDER', 2),\n",
       " ('STRICT', 1),\n",
       " ('LIABILITY,', 1),\n",
       " ('BREACH', 1),\n",
       " ('WARRANTY', 1),\n",
       " ('CONTRACT,', 1),\n",
       " ('INCLUDING', 2),\n",
       " ('BUT', 2),\n",
       " ('TO', 6),\n",
       " ('INDIRECT,', 1),\n",
       " ('CONSEQUENTIAL,', 1),\n",
       " ('PUNITIVE', 1),\n",
       " ('INCIDENTAL', 1),\n",
       " ('DAMAGES,', 1),\n",
       " ('EVEN', 2),\n",
       " ('IF', 3),\n",
       " ('GIVE', 1),\n",
       " ('NOTICE', 1),\n",
       " ('THE', 3),\n",
       " ('POSSIBILITY', 1),\n",
       " ('SUCH', 1),\n",
       " ('DAMAGES.', 1),\n",
       " ('discover', 1),\n",
       " ('Defect', 1),\n",
       " ('90', 1),\n",
       " ('explanatory', 1),\n",
       " ('note', 5),\n",
       " ('note,', 1),\n",
       " ('choose', 2),\n",
       " ('alternatively', 2),\n",
       " ('give', 3),\n",
       " ('replacement', 2),\n",
       " ('copy.', 1),\n",
       " ('electronically,', 2),\n",
       " ('second', 5),\n",
       " ('opportunity', 1),\n",
       " ('electronically.', 1),\n",
       " ('OTHERWISE', 1),\n",
       " ('PROVIDED', 1),\n",
       " ('\"AS-IS\".', 1),\n",
       " ('OTHER', 1),\n",
       " ('WARRANTIES', 2),\n",
       " ('ANY', 2),\n",
       " ('KIND,', 1),\n",
       " ('EXPRESS', 1),\n",
       " ('IMPLIED,', 1),\n",
       " ('ARE', 1),\n",
       " ('MADE', 1),\n",
       " ('MEDIUM', 1),\n",
       " ('IT', 1),\n",
       " ('ON,', 1),\n",
       " ('MERCHANTABILITY', 1),\n",
       " ('FITNESS', 1),\n",
       " ('PARTICULAR', 1),\n",
       " ('PURPOSE.', 1),\n",
       " ('Some', 5),\n",
       " ('states', 1),\n",
       " ('allow', 1),\n",
       " ('disclaimers', 2),\n",
       " ('implied', 1),\n",
       " ('warranties', 1),\n",
       " ('exclusion', 1),\n",
       " ('limitation', 1),\n",
       " ('consequential', 1),\n",
       " ('above', 1),\n",
       " ('exclusions', 1),\n",
       " ('you,', 15),\n",
       " ('rights.', 1),\n",
       " ('INDEMNITY', 1),\n",
       " ('indemnify', 1),\n",
       " ('hold', 7),\n",
       " ('Project,', 1),\n",
       " ('directors,', 1),\n",
       " ('officers,', 1),\n",
       " ('members', 1),\n",
       " ('agents', 1),\n",
       " ('harmless', 1),\n",
       " ('liability,', 1),\n",
       " ('cost', 1),\n",
       " ('expense,', 2),\n",
       " ('arise', 1),\n",
       " ('indirectly', 1),\n",
       " ('following', 2),\n",
       " ('cause:', 1),\n",
       " ('distribution', 1),\n",
       " ('alteration,', 1),\n",
       " ('modification,', 1),\n",
       " ('addition', 2),\n",
       " ('[3]', 2),\n",
       " ('Defect.', 1),\n",
       " ('DISTRIBUTION', 1),\n",
       " ('GUTENBERG-tm\"', 1),\n",
       " ('book', 1),\n",
       " ('either', 2),\n",
       " ('delete', 2),\n",
       " ('references', 1),\n",
       " ('Gutenberg,', 1),\n",
       " ('or:', 1),\n",
       " ('Only', 1),\n",
       " ('exact', 1),\n",
       " ('it.', 9),\n",
       " ('requires', 1),\n",
       " ('remove,', 1),\n",
       " ('alter', 2),\n",
       " ('modify', 1),\n",
       " ('\"small', 1),\n",
       " ('print!\"', 1),\n",
       " ('however,', 1),\n",
       " ('wish,', 1),\n",
       " ('machine', 1),\n",
       " ('readable', 1),\n",
       " ('binary,', 1),\n",
       " ('compressed,', 1),\n",
       " ('mark-up,', 1),\n",
       " ('proprietary', 2),\n",
       " ('form,', 1),\n",
       " ('resulting', 1),\n",
       " ('conversion', 1),\n",
       " ('word', 5),\n",
       " ('pro-', 1),\n",
       " ('cessing', 1),\n",
       " ('hypertext', 2),\n",
       " ('software,', 2),\n",
       " ('long', 3),\n",
       " ('*EITHER*:', 1),\n",
       " ('[*]', 3),\n",
       " ('when', 21),\n",
       " ('displayed,', 1),\n",
       " ('clearly', 1),\n",
       " ('readable,', 1),\n",
       " ('does', 8),\n",
       " ('*not*', 1),\n",
       " ('characters', 4),\n",
       " ('intended', 2),\n",
       " ('although', 1),\n",
       " ('tilde', 1),\n",
       " ('(~),', 1),\n",
       " ('asterisk', 1),\n",
       " ('(*)', 1),\n",
       " ('underline', 1),\n",
       " ('(_)', 1),\n",
       " ('used', 4),\n",
       " ('convey', 1),\n",
       " ('punctuation', 2),\n",
       " ('author,', 1),\n",
       " ('additional', 2),\n",
       " ('links;', 1),\n",
       " ('readily', 1),\n",
       " ('converted', 1),\n",
       " ('reader', 1),\n",
       " ('expense', 1),\n",
       " ('into', 14),\n",
       " ('plain', 2),\n",
       " ('ASCII,', 1),\n",
       " ('EBCDIC', 2),\n",
       " ('equivalent', 3),\n",
       " ('displays', 1),\n",
       " ('(as', 4),\n",
       " ('case,', 1),\n",
       " ('instance,', 1),\n",
       " ('processors);', 1),\n",
       " ('provide,', 1),\n",
       " ('provide', 1),\n",
       " ('cost,', 1),\n",
       " ('fee', 2),\n",
       " ('original', 2),\n",
       " ('ASCII', 2),\n",
       " ('(or', 3),\n",
       " ('form).', 1),\n",
       " ('Honor', 7),\n",
       " ('provisions', 1),\n",
       " ('Pay', 1),\n",
       " ('trademark', 1),\n",
       " ('license', 1),\n",
       " ('20%', 1),\n",
       " ('net', 1),\n",
       " ('profits', 1),\n",
       " ('derive', 2),\n",
       " ('calculated', 1),\n",
       " ('method', 1),\n",
       " ('already', 3),\n",
       " ('calculate', 1),\n",
       " ('applicable', 1),\n",
       " ('taxes.', 1),\n",
       " ('profits,', 1),\n",
       " ('royalty', 2),\n",
       " ('due.', 1),\n",
       " ('Royalties', 1),\n",
       " ('payable', 1),\n",
       " ('Association/Carnegie-Mellon', 1),\n",
       " ('University\"', 1),\n",
       " ('60', 1),\n",
       " ('prepare', 1),\n",
       " ('were', 34),\n",
       " ('legally', 1),\n",
       " ('required', 1),\n",
       " ('prepare)', 1),\n",
       " ('annual', 1),\n",
       " ('periodic)', 1),\n",
       " ('return.', 1),\n",
       " ('WHAT', 1),\n",
       " ('*WANT*', 1),\n",
       " ('SEND', 1),\n",
       " ('MONEY', 1),\n",
       " (\"DON'T\", 1),\n",
       " ('TO?', 1),\n",
       " ('gratefully', 1),\n",
       " ('accepts', 1),\n",
       " ('contributions', 1),\n",
       " ('money,', 1),\n",
       " ('time,', 16),\n",
       " ('scanning', 2),\n",
       " ('machines,', 1),\n",
       " ('OCR', 1),\n",
       " ('licenses,', 1),\n",
       " ('every', 1),\n",
       " ('sort', 1),\n",
       " ('contribution', 1),\n",
       " ('think', 2),\n",
       " ('of.', 2),\n",
       " ('Money', 1),\n",
       " ('/', 1),\n",
       " ('University\".', 1),\n",
       " ('*END*THE', 1),\n",
       " ('PRINT!', 1),\n",
       " ('ETEXTS*Ver.04.29.93*END*', 1),\n",
       " (\"Director's\", 1),\n",
       " ('Notes:', 2),\n",
       " ('In', 29),\n",
       " ('notes', 1),\n",
       " ('*NOT*', 1),\n",
       " ('spelling', 4),\n",
       " ('errors', 3),\n",
       " ('introduced', 1),\n",
       " ('printers', 2),\n",
       " ('been', 6),\n",
       " ('corrected,', 1),\n",
       " ('here', 7),\n",
       " ('lines', 1),\n",
       " ('Hamlet,', 1),\n",
       " ('presented', 1),\n",
       " ('herein:', 1),\n",
       " ('Barnardo.', 1),\n",
       " (\"Who's\", 6),\n",
       " ('there?', 6),\n",
       " ('Fran.', 1),\n",
       " ('Nay', 2),\n",
       " ('answer', 5),\n",
       " ('me:', 6),\n",
       " ('Stand', 4),\n",
       " ('&', 18),\n",
       " ('vnfold', 2),\n",
       " ('selfe', 15),\n",
       " ('Bar.', 1),\n",
       " ('Long', 1),\n",
       " ('liue', 6),\n",
       " ('King', 15),\n",
       " ('As', 34),\n",
       " ('understand', 1),\n",
       " ('ran', 2),\n",
       " ('out', 19),\n",
       " ('certain', 1),\n",
       " ('words', 5),\n",
       " ('had', 29),\n",
       " ('packed', 2),\n",
       " ('\"cliche\".', 1),\n",
       " ('.this', 1),\n",
       " ('meaning', 1),\n",
       " ('term', 1),\n",
       " ('cliche.', 1),\n",
       " ('.and', 3),\n",
       " ('thus,', 3),\n",
       " ('being', 9),\n",
       " ('unwilling', 1),\n",
       " ('unpack', 1),\n",
       " ('cliches,', 1),\n",
       " ('thus', 6),\n",
       " ('substitutions', 1),\n",
       " ('very', 12),\n",
       " ('odd.', 1),\n",
       " ('.such', 1),\n",
       " ('exchanges', 1),\n",
       " ('u', 1),\n",
       " ('v,', 1),\n",
       " ('v', 1),\n",
       " ('u,', 1),\n",
       " ('above.', 1),\n",
       " ('wonder', 2),\n",
       " ('why', 9),\n",
       " ('did', 35),\n",
       " ('way,', 3),\n",
       " ('presuming', 1),\n",
       " ('actually', 1),\n",
       " ('write', 3),\n",
       " ('play', 5),\n",
       " ('manner.', 1),\n",
       " ('\"liue\"', 1),\n",
       " ('cliche', 1),\n",
       " ('\"v\"\\'s.', 1),\n",
       " ('.possibly', 1),\n",
       " ('having', 1),\n",
       " ('\"vv\"', 1),\n",
       " ('place', 7),\n",
       " ('\"w\"\\'s,', 1),\n",
       " ('was', 36),\n",
       " ('common', 3),\n",
       " ('practice', 1),\n",
       " ('day,', 4),\n",
       " ('print', 1),\n",
       " ('quite', 2),\n",
       " ('expensive,', 1),\n",
       " (\"didn't\", 1),\n",
       " ('spend', 5),\n",
       " ('wider', 1),\n",
       " ...]"
      ]
     },
     "execution_count": 2,
     "metadata": {},
     "output_type": "execute_result"
    }
   ],
   "source": [
    "counts"
   ]
  },
  {
   "cell_type": "code",
   "execution_count": 3,
   "metadata": {
    "ExecuteTime": {
     "end_time": "2020-07-22T10:07:11.599908Z",
     "start_time": "2020-07-22T10:07:11.589913Z"
    }
   },
   "outputs": [
    {
     "data": {
      "text/plain": [
       "[('the', 620),\n",
       " ('and', 427),\n",
       " ('of', 395),\n",
       " ('to', 367),\n",
       " ('I', 326),\n",
       " ('a', 255),\n",
       " ('you', 193),\n",
       " ('in', 190),\n",
       " ('is', 185),\n",
       " ('my', 170),\n",
       " ('And', 169),\n",
       " ('that', 158),\n",
       " ('not', 142),\n",
       " ('with', 141),\n",
       " ('Macb.', 137),\n",
       " ('be', 133),\n",
       " ('The', 131),\n",
       " ('it', 128),\n",
       " ('his', 127),\n",
       " ('your', 122),\n",
       " ('our', 116),\n",
       " ('haue', 114),\n",
       " ('this', 108),\n",
       " ('for', 100),\n",
       " ('That', 80)]"
      ]
     },
     "execution_count": 3,
     "metadata": {},
     "output_type": "execute_result"
    }
   ],
   "source": [
    "# Sort words by count\n",
    "top_25 = sorted(counts, key = lambda x: x[1], reverse=True)[:25] # x[1] points to the second element in each tuple\n",
    "top_25"
   ]
  },
  {
   "cell_type": "code",
   "execution_count": 4,
   "metadata": {
    "ExecuteTime": {
     "end_time": "2020-07-22T10:08:43.064111Z",
     "start_time": "2020-07-22T10:08:43.060115Z"
    }
   },
   "outputs": [],
   "source": [
    "# 2. Maps and filters\n",
    "\n",
    "l = [1, 2, 3, 4, 5, 6]"
   ]
  },
  {
   "cell_type": "code",
   "execution_count": 5,
   "metadata": {
    "ExecuteTime": {
     "end_time": "2020-07-22T10:08:49.335775Z",
     "start_time": "2020-07-22T10:08:49.328798Z"
    }
   },
   "outputs": [
    {
     "data": {
      "text/plain": [
       "[3, 4, 5, 6, 7, 8]"
      ]
     },
     "execution_count": 5,
     "metadata": {},
     "output_type": "execute_result"
    }
   ],
   "source": [
    "list(map(lambda x: x + 2, l)) # MAPPING x + 2 to every element of the list"
   ]
  },
  {
   "cell_type": "code",
   "execution_count": 6,
   "metadata": {
    "ExecuteTime": {
     "end_time": "2020-07-22T10:15:29.782959Z",
     "start_time": "2020-07-22T10:15:29.776965Z"
    }
   },
   "outputs": [
    {
     "data": {
      "text/plain": [
       "[2, 4, 6]"
      ]
     },
     "execution_count": 6,
     "metadata": {},
     "output_type": "execute_result"
    }
   ],
   "source": [
    "list(filter(lambda x: x%2 == 0, l)) # FILTERING and only keeping elements that satisfy the condition \n",
    "# x%2 == 0 basically means the remainder has to be zero when you divide by 2"
   ]
  },
  {
   "cell_type": "code",
   "execution_count": null,
   "metadata": {},
   "outputs": [],
   "source": [
    "# 3. Pandas - we'll get there in Section 4/5!"
   ]
  },
  {
   "cell_type": "markdown",
   "metadata": {},
   "source": [
    "## Making Lists from Lists\n",
    "List comprehension (and dictionary comprehension!)"
   ]
  },
  {
   "cell_type": "code",
   "execution_count": 7,
   "metadata": {
    "ExecuteTime": {
     "end_time": "2020-07-22T10:17:04.264728Z",
     "start_time": "2020-07-22T10:17:04.258731Z"
    }
   },
   "outputs": [
    {
     "data": {
      "text/plain": [
       "[3, 4, 5, 6, 7, 8]"
      ]
     },
     "execution_count": 7,
     "metadata": {},
     "output_type": "execute_result"
    }
   ],
   "source": [
    "new = []\n",
    "for x in l:\n",
    "    new.append(x+2)# adding 2 to the list of 1 to 6\n",
    "new"
   ]
  },
  {
   "cell_type": "code",
   "execution_count": 8,
   "metadata": {
    "ExecuteTime": {
     "end_time": "2020-07-22T10:17:07.651866Z",
     "start_time": "2020-07-22T10:17:07.644869Z"
    }
   },
   "outputs": [
    {
     "data": {
      "text/plain": [
       "[3, 4, 5, 6, 7, 8]"
      ]
     },
     "execution_count": 8,
     "metadata": {},
     "output_type": "execute_result"
    }
   ],
   "source": [
    "[x+2 for x in l]"
   ]
  },
  {
   "cell_type": "code",
   "execution_count": 9,
   "metadata": {
    "ExecuteTime": {
     "end_time": "2020-07-22T10:20:13.629490Z",
     "start_time": "2020-07-22T10:20:13.622498Z"
    },
    "scrolled": true
   },
   "outputs": [
    {
     "data": {
      "text/plain": [
       "{1: 2, 2: 3, 3: 4, 4: 5, 5: 6, 6: 7}"
      ]
     },
     "execution_count": 9,
     "metadata": {},
     "output_type": "execute_result"
    }
   ],
   "source": [
    "{x: x+1 for x in l} # here in the dictionary each key is x and value is x+1"
   ]
  },
  {
   "cell_type": "code",
   "execution_count": 10,
   "metadata": {
    "ExecuteTime": {
     "end_time": "2020-07-22T10:24:56.141685Z",
     "start_time": "2020-07-22T10:24:56.135687Z"
    }
   },
   "outputs": [
    {
     "data": {
      "text/plain": [
       "[4, 6, 8]"
      ]
     },
     "execution_count": 10,
     "metadata": {},
     "output_type": "execute_result"
    }
   ],
   "source": [
    "[x+2 for x in l if x%2==0] # adding a condition to only do x+2 if x is even"
   ]
  },
  {
   "cell_type": "markdown",
   "metadata": {},
   "source": [
    "## That Soccer Dictionary\n",
    "\n",
    "Nested dictionaries are a very common data structure!"
   ]
  },
  {
   "cell_type": "code",
   "execution_count": 11,
   "metadata": {
    "ExecuteTime": {
     "end_time": "2020-07-22T10:38:55.714188Z",
     "start_time": "2020-07-22T10:38:55.672214Z"
    }
   },
   "outputs": [],
   "source": [
    "soccer_match = [\n",
    "  { \"home_team\": True,\n",
    "    \"away_team\": False,\n",
    "    \"country\": \"France\",\n",
    "    \"num_passes\": 484,\n",
    "    \"passes_completed\": 423,\n",
    "    \"fouls_committed\": 16,\n",
    "    \"colors\": [\"blue\", \"white\", \"red\"],\n",
    "    \"players\": [\n",
    "      {\n",
    "        \"name\": \"Hugo LLORIS\",\n",
    "        \"captain\": True,\n",
    "        \"shirt_number\": 1,\n",
    "        \"position\": \"Goalie\"\n",
    "      },\n",
    "      {\n",
    "        \"name\": \"Benjamin PAVARD\",\n",
    "        \"captain\": False,\n",
    "        \"shirt_number\": 2,\n",
    "        \"position\": \"Defender\"\n",
    "      },\n",
    "      {\n",
    "        \"name\": \"Raphael VARANE\",\n",
    "        \"captain\": False,\n",
    "        \"shirt_number\": 4,\n",
    "        \"position\": \"Defender\"\n",
    "      },\n",
    "      {\n",
    "        \"name\": \"Samuel UMTITI\",\n",
    "        \"captain\": False,\n",
    "        \"shirt_number\": 5,\n",
    "        \"position\": \"Defender\"\n",
    "      },\n",
    "      {\n",
    "        \"name\": \"Paul POGBA\",\n",
    "        \"captain\": False,\n",
    "        \"shirt_number\": 6,\n",
    "        \"position\": \"Midfield\"\n",
    "      },\n",
    "      {\n",
    "        \"name\": \"Antoine GRIEZMANN\",\n",
    "        \"captain\": False,\n",
    "        \"shirt_number\": 7,\n",
    "        \"position\": \"Forward\"\n",
    "      },\n",
    "      {\n",
    "        \"name\": \"Kylian MBAPPE\",\n",
    "        \"captain\": False,\n",
    "        \"shirt_number\": 10,\n",
    "        \"position\": \"Forward\"\n",
    "      },\n",
    "      {\n",
    "        \"name\": \"Ousmane DEMBELE\",\n",
    "        \"captain\": False,\n",
    "        \"shirt_number\": 11,\n",
    "        \"position\": \"Forward\"\n",
    "      },\n",
    "      {\n",
    "        \"name\": \"Corentin TOLISSO\",\n",
    "        \"captain\": False,\n",
    "        \"shirt_number\": 12,\n",
    "        \"position\": \"Midfield\"\n",
    "      },\n",
    "      {\n",
    "        \"name\": \"Ngolo KANTE\",\n",
    "        \"captain\": False,\n",
    "        \"shirt_number\": 13,\n",
    "        \"position\": \"Midfield\"\n",
    "      },\n",
    "      {\n",
    "        \"name\": \"Lucas HERNANDEZ\",\n",
    "        \"captain\": False,\n",
    "        \"shirt_number\": 21,\n",
    "        \"position\": \"Defender\"\n",
    "      }\n",
    "    ],\n",
    "  },\n",
    "  { \"home_team\": False,\n",
    "    \"away_team\": True,\n",
    "    \"country\": \"Australia\",\n",
    "    \"num_passes\": 390,\n",
    "    \"passes_completed\": 332,\n",
    "    \"fouls_committed\": 19,\n",
    "    \"colors\": [\"green\", \"gold\"],\n",
    "    \"players\": [\n",
    "      {\n",
    "        \"name\": \"Mathew RYAN\",\n",
    "        \"captain\": False,\n",
    "        \"shirt_number\": 1,\n",
    "        \"position\": \"Goalie\"\n",
    "      },\n",
    "      {\n",
    "        \"name\": \"Mark MILLIGAN\",\n",
    "        \"captain\": False,\n",
    "        \"shirt_number\": 5,\n",
    "        \"position\": \"Defender\"\n",
    "      },\n",
    "      {\n",
    "        \"name\": \"Mathew LECKIE\",\n",
    "        \"captain\": False,\n",
    "        \"shirt_number\": 7,\n",
    "        \"position\": \"Forward\"\n",
    "      },\n",
    "      {\n",
    "        \"name\": \"Robbie KRUSE\",\n",
    "        \"captain\": False,\n",
    "        \"shirt_number\": 10,\n",
    "        \"position\": \"Forward\"\n",
    "      },\n",
    "      {\n",
    "        \"name\": \"Andrew NABBOUT\",\n",
    "        \"captain\": False,\n",
    "        \"shirt_number\": 11,\n",
    "        \"position\": \"Forward\"\n",
    "      },\n",
    "      {\n",
    "        \"name\": \"Aaron MOOY\",\n",
    "        \"captain\": False,\n",
    "        \"shirt_number\": 13,\n",
    "        \"position\": \"Midfield\"\n",
    "      },\n",
    "      {\n",
    "        \"name\": \"Mile JEDINAK\",\n",
    "        \"captain\": True,\n",
    "        \"shirt_number\": 15,\n",
    "        \"position\": \"Midfield\"\n",
    "      },\n",
    "      {\n",
    "        \"name\": \"Aziz BEHICH\",\n",
    "        \"captain\": False,\n",
    "        \"shirt_number\": 16,\n",
    "        \"position\": \"Defender\"\n",
    "      },\n",
    "      {\n",
    "        \"name\": \"Joshua RISDON\",\n",
    "        \"captain\": False,\n",
    "        \"shirt_number\": 19,\n",
    "        \"position\": \"Defender\"\n",
    "      },\n",
    "      {\n",
    "        \"name\": \"Trent SAINSBURY\",\n",
    "        \"captain\": False,\n",
    "        \"shirt_number\": 20,\n",
    "        \"position\": \"Defender\"\n",
    "      },\n",
    "      {\n",
    "        \"name\": \"Tom ROGIC\",\n",
    "        \"captain\": False,\n",
    "        \"shirt_number\": 23,\n",
    "        \"position\": \"Midfield\"\n",
    "      }\n",
    "    ]\n",
    "  }\n",
    "]"
   ]
  },
  {
   "cell_type": "code",
   "execution_count": 12,
   "metadata": {
    "ExecuteTime": {
     "end_time": "2020-07-22T10:40:01.270595Z",
     "start_time": "2020-07-22T10:40:01.265596Z"
    }
   },
   "outputs": [
    {
     "name": "stdout",
     "output_type": "stream",
     "text": [
      "<class 'list'>\n",
      "2\n",
      "{'home_team': True, 'away_team': False, 'country': 'France', 'num_passes': 484, 'passes_completed': 423, 'fouls_committed': 16, 'colors': ['blue', 'white', 'red'], 'players': [{'name': 'Hugo LLORIS', 'captain': True, 'shirt_number': 1, 'position': 'Goalie'}, {'name': 'Benjamin PAVARD', 'captain': False, 'shirt_number': 2, 'position': 'Defender'}, {'name': 'Raphael VARANE', 'captain': False, 'shirt_number': 4, 'position': 'Defender'}, {'name': 'Samuel UMTITI', 'captain': False, 'shirt_number': 5, 'position': 'Defender'}, {'name': 'Paul POGBA', 'captain': False, 'shirt_number': 6, 'position': 'Midfield'}, {'name': 'Antoine GRIEZMANN', 'captain': False, 'shirt_number': 7, 'position': 'Forward'}, {'name': 'Kylian MBAPPE', 'captain': False, 'shirt_number': 10, 'position': 'Forward'}, {'name': 'Ousmane DEMBELE', 'captain': False, 'shirt_number': 11, 'position': 'Forward'}, {'name': 'Corentin TOLISSO', 'captain': False, 'shirt_number': 12, 'position': 'Midfield'}, {'name': 'Ngolo KANTE', 'captain': False, 'shirt_number': 13, 'position': 'Midfield'}, {'name': 'Lucas HERNANDEZ', 'captain': False, 'shirt_number': 21, 'position': 'Defender'}]}\n"
     ]
    }
   ],
   "source": [
    "# explore the data - its schema\n",
    "print(type(soccer_match))\n",
    "print(len(soccer_match))\n",
    "\n",
    "print(soccer_match[0])\n"
   ]
  },
  {
   "cell_type": "code",
   "execution_count": 13,
   "metadata": {
    "ExecuteTime": {
     "end_time": "2020-07-22T10:40:44.733590Z",
     "start_time": "2020-07-22T10:40:44.728593Z"
    }
   },
   "outputs": [
    {
     "name": "stdout",
     "output_type": "stream",
     "text": [
      "<class 'list'>\n",
      "2\n",
      "{'home_team': False, 'away_team': True, 'country': 'Australia', 'num_passes': 390, 'passes_completed': 332, 'fouls_committed': 19, 'colors': ['green', 'gold'], 'players': [{'name': 'Mathew RYAN', 'captain': False, 'shirt_number': 1, 'position': 'Goalie'}, {'name': 'Mark MILLIGAN', 'captain': False, 'shirt_number': 5, 'position': 'Defender'}, {'name': 'Mathew LECKIE', 'captain': False, 'shirt_number': 7, 'position': 'Forward'}, {'name': 'Robbie KRUSE', 'captain': False, 'shirt_number': 10, 'position': 'Forward'}, {'name': 'Andrew NABBOUT', 'captain': False, 'shirt_number': 11, 'position': 'Forward'}, {'name': 'Aaron MOOY', 'captain': False, 'shirt_number': 13, 'position': 'Midfield'}, {'name': 'Mile JEDINAK', 'captain': True, 'shirt_number': 15, 'position': 'Midfield'}, {'name': 'Aziz BEHICH', 'captain': False, 'shirt_number': 16, 'position': 'Defender'}, {'name': 'Joshua RISDON', 'captain': False, 'shirt_number': 19, 'position': 'Defender'}, {'name': 'Trent SAINSBURY', 'captain': False, 'shirt_number': 20, 'position': 'Defender'}, {'name': 'Tom ROGIC', 'captain': False, 'shirt_number': 23, 'position': 'Midfield'}]}\n"
     ]
    }
   ],
   "source": [
    "print(type(soccer_match))\n",
    "print(len(soccer_match))\n",
    "\n",
    "print(soccer_match[1])\n"
   ]
  },
  {
   "cell_type": "code",
   "execution_count": 14,
   "metadata": {
    "ExecuteTime": {
     "end_time": "2020-07-22T10:41:33.269445Z",
     "start_time": "2020-07-22T10:41:33.262448Z"
    }
   },
   "outputs": [
    {
     "name": "stdout",
     "output_type": "stream",
     "text": [
      "<class 'list'>\n",
      "2\n",
      "{'home_team': True, 'away_team': False, 'country': 'France', 'num_passes': 484, 'passes_completed': 423, 'fouls_committed': 16, 'colors': ['blue', 'white', 'red'], 'players': [{'name': 'Hugo LLORIS', 'captain': True, 'shirt_number': 1, 'position': 'Goalie'}, {'name': 'Benjamin PAVARD', 'captain': False, 'shirt_number': 2, 'position': 'Defender'}, {'name': 'Raphael VARANE', 'captain': False, 'shirt_number': 4, 'position': 'Defender'}, {'name': 'Samuel UMTITI', 'captain': False, 'shirt_number': 5, 'position': 'Defender'}, {'name': 'Paul POGBA', 'captain': False, 'shirt_number': 6, 'position': 'Midfield'}, {'name': 'Antoine GRIEZMANN', 'captain': False, 'shirt_number': 7, 'position': 'Forward'}, {'name': 'Kylian MBAPPE', 'captain': False, 'shirt_number': 10, 'position': 'Forward'}, {'name': 'Ousmane DEMBELE', 'captain': False, 'shirt_number': 11, 'position': 'Forward'}, {'name': 'Corentin TOLISSO', 'captain': False, 'shirt_number': 12, 'position': 'Midfield'}, {'name': 'Ngolo KANTE', 'captain': False, 'shirt_number': 13, 'position': 'Midfield'}, {'name': 'Lucas HERNANDEZ', 'captain': False, 'shirt_number': 21, 'position': 'Defender'}]}\n",
      "{'home_team': False, 'away_team': True, 'country': 'Australia', 'num_passes': 390, 'passes_completed': 332, 'fouls_committed': 19, 'colors': ['green', 'gold'], 'players': [{'name': 'Mathew RYAN', 'captain': False, 'shirt_number': 1, 'position': 'Goalie'}, {'name': 'Mark MILLIGAN', 'captain': False, 'shirt_number': 5, 'position': 'Defender'}, {'name': 'Mathew LECKIE', 'captain': False, 'shirt_number': 7, 'position': 'Forward'}, {'name': 'Robbie KRUSE', 'captain': False, 'shirt_number': 10, 'position': 'Forward'}, {'name': 'Andrew NABBOUT', 'captain': False, 'shirt_number': 11, 'position': 'Forward'}, {'name': 'Aaron MOOY', 'captain': False, 'shirt_number': 13, 'position': 'Midfield'}, {'name': 'Mile JEDINAK', 'captain': True, 'shirt_number': 15, 'position': 'Midfield'}, {'name': 'Aziz BEHICH', 'captain': False, 'shirt_number': 16, 'position': 'Defender'}, {'name': 'Joshua RISDON', 'captain': False, 'shirt_number': 19, 'position': 'Defender'}, {'name': 'Trent SAINSBURY', 'captain': False, 'shirt_number': 20, 'position': 'Defender'}, {'name': 'Tom ROGIC', 'captain': False, 'shirt_number': 23, 'position': 'Midfield'}]}\n"
     ]
    }
   ],
   "source": [
    "print(type(soccer_match))\n",
    "print(len(soccer_match))\n",
    "\n",
    "print(soccer_match[0])\n",
    "print(soccer_match[1])\n"
   ]
  },
  {
   "cell_type": "code",
   "execution_count": 20,
   "metadata": {
    "ExecuteTime": {
     "end_time": "2020-07-22T10:53:13.958897Z",
     "start_time": "2020-07-22T10:53:13.949922Z"
    }
   },
   "outputs": [
    {
     "name": "stdout",
     "output_type": "stream",
     "text": [
      "{'home_team': True, 'away_team': False, 'country': 'France', 'num_passes': 484, 'passes_completed': 423, 'fouls_committed': 16, 'colors': ['blue', 'white', 'red'], 'players': [{'name': 'Hugo LLORIS', 'captain': True, 'shirt_number': 1, 'position': 'Goalie'}, {'name': 'Benjamin PAVARD', 'captain': False, 'shirt_number': 2, 'position': 'Defender'}, {'name': 'Raphael VARANE', 'captain': False, 'shirt_number': 4, 'position': 'Defender'}, {'name': 'Samuel UMTITI', 'captain': False, 'shirt_number': 5, 'position': 'Defender'}, {'name': 'Paul POGBA', 'captain': False, 'shirt_number': 6, 'position': 'Midfield'}, {'name': 'Antoine GRIEZMANN', 'captain': False, 'shirt_number': 7, 'position': 'Forward'}, {'name': 'Kylian MBAPPE', 'captain': False, 'shirt_number': 10, 'position': 'Forward'}, {'name': 'Ousmane DEMBELE', 'captain': False, 'shirt_number': 11, 'position': 'Forward'}, {'name': 'Corentin TOLISSO', 'captain': False, 'shirt_number': 12, 'position': 'Midfield'}, {'name': 'Ngolo KANTE', 'captain': False, 'shirt_number': 13, 'position': 'Midfield'}, {'name': 'Lucas HERNANDEZ', 'captain': False, 'shirt_number': 21, 'position': 'Defender'}]}\n",
      "{'home_team': False, 'away_team': True, 'country': 'Australia', 'num_passes': 390, 'passes_completed': 332, 'fouls_committed': 19, 'colors': ['green', 'gold'], 'players': [{'name': 'Mathew RYAN', 'captain': False, 'shirt_number': 1, 'position': 'Goalie'}, {'name': 'Mark MILLIGAN', 'captain': False, 'shirt_number': 5, 'position': 'Defender'}, {'name': 'Mathew LECKIE', 'captain': False, 'shirt_number': 7, 'position': 'Forward'}, {'name': 'Robbie KRUSE', 'captain': False, 'shirt_number': 10, 'position': 'Forward'}, {'name': 'Andrew NABBOUT', 'captain': False, 'shirt_number': 11, 'position': 'Forward'}, {'name': 'Aaron MOOY', 'captain': False, 'shirt_number': 13, 'position': 'Midfield'}, {'name': 'Mile JEDINAK', 'captain': True, 'shirt_number': 15, 'position': 'Midfield'}, {'name': 'Aziz BEHICH', 'captain': False, 'shirt_number': 16, 'position': 'Defender'}, {'name': 'Joshua RISDON', 'captain': False, 'shirt_number': 19, 'position': 'Defender'}, {'name': 'Trent SAINSBURY', 'captain': False, 'shirt_number': 20, 'position': 'Defender'}, {'name': 'Tom ROGIC', 'captain': False, 'shirt_number': 23, 'position': 'Midfield'}]}\n"
     ]
    },
    {
     "data": {
      "text/plain": [
       "dict_keys(['home_team', 'away_team', 'country', 'num_passes', 'passes_completed', 'fouls_committed', 'colors', 'players'])"
      ]
     },
     "execution_count": 20,
     "metadata": {},
     "output_type": "execute_result"
    }
   ],
   "source": [
    "print(soccer_match[0])\n",
    "soccer_match[0].keys()\n",
    "print(soccer_match[1])\n",
    "soccer_match[1].keys()\n"
   ]
  },
  {
   "cell_type": "code",
   "execution_count": 23,
   "metadata": {
    "ExecuteTime": {
     "end_time": "2020-07-22T10:57:21.579873Z",
     "start_time": "2020-07-22T10:57:21.570880Z"
    }
   },
   "outputs": [
    {
     "name": "stdout",
     "output_type": "stream",
     "text": [
      "{'home_team': True, 'away_team': False, 'country': 'France', 'num_passes': 484, 'passes_completed': 423, 'fouls_committed': 16, 'colors': ['blue', 'white', 'red'], 'players': [{'name': 'Hugo LLORIS', 'captain': True, 'shirt_number': 1, 'position': 'Goalie'}, {'name': 'Benjamin PAVARD', 'captain': False, 'shirt_number': 2, 'position': 'Defender'}, {'name': 'Raphael VARANE', 'captain': False, 'shirt_number': 4, 'position': 'Defender'}, {'name': 'Samuel UMTITI', 'captain': False, 'shirt_number': 5, 'position': 'Defender'}, {'name': 'Paul POGBA', 'captain': False, 'shirt_number': 6, 'position': 'Midfield'}, {'name': 'Antoine GRIEZMANN', 'captain': False, 'shirt_number': 7, 'position': 'Forward'}, {'name': 'Kylian MBAPPE', 'captain': False, 'shirt_number': 10, 'position': 'Forward'}, {'name': 'Ousmane DEMBELE', 'captain': False, 'shirt_number': 11, 'position': 'Forward'}, {'name': 'Corentin TOLISSO', 'captain': False, 'shirt_number': 12, 'position': 'Midfield'}, {'name': 'Ngolo KANTE', 'captain': False, 'shirt_number': 13, 'position': 'Midfield'}, {'name': 'Lucas HERNANDEZ', 'captain': False, 'shirt_number': 21, 'position': 'Defender'}]}\n"
     ]
    },
    {
     "data": {
      "text/plain": [
       "[{'name': 'Hugo LLORIS',\n",
       "  'captain': True,\n",
       "  'shirt_number': 1,\n",
       "  'position': 'Goalie'},\n",
       " {'name': 'Benjamin PAVARD',\n",
       "  'captain': False,\n",
       "  'shirt_number': 2,\n",
       "  'position': 'Defender'},\n",
       " {'name': 'Raphael VARANE',\n",
       "  'captain': False,\n",
       "  'shirt_number': 4,\n",
       "  'position': 'Defender'},\n",
       " {'name': 'Samuel UMTITI',\n",
       "  'captain': False,\n",
       "  'shirt_number': 5,\n",
       "  'position': 'Defender'},\n",
       " {'name': 'Paul POGBA',\n",
       "  'captain': False,\n",
       "  'shirt_number': 6,\n",
       "  'position': 'Midfield'},\n",
       " {'name': 'Antoine GRIEZMANN',\n",
       "  'captain': False,\n",
       "  'shirt_number': 7,\n",
       "  'position': 'Forward'},\n",
       " {'name': 'Kylian MBAPPE',\n",
       "  'captain': False,\n",
       "  'shirt_number': 10,\n",
       "  'position': 'Forward'},\n",
       " {'name': 'Ousmane DEMBELE',\n",
       "  'captain': False,\n",
       "  'shirt_number': 11,\n",
       "  'position': 'Forward'},\n",
       " {'name': 'Corentin TOLISSO',\n",
       "  'captain': False,\n",
       "  'shirt_number': 12,\n",
       "  'position': 'Midfield'},\n",
       " {'name': 'Ngolo KANTE',\n",
       "  'captain': False,\n",
       "  'shirt_number': 13,\n",
       "  'position': 'Midfield'},\n",
       " {'name': 'Lucas HERNANDEZ',\n",
       "  'captain': False,\n",
       "  'shirt_number': 21,\n",
       "  'position': 'Defender'}]"
      ]
     },
     "execution_count": 23,
     "metadata": {},
     "output_type": "execute_result"
    }
   ],
   "source": [
    "print(soccer_match[0])\n",
    "soccer_match[0]['players']"
   ]
  },
  {
   "cell_type": "code",
   "execution_count": 29,
   "metadata": {
    "ExecuteTime": {
     "end_time": "2020-07-22T12:23:56.601127Z",
     "start_time": "2020-07-22T12:23:56.585148Z"
    }
   },
   "outputs": [
    {
     "name": "stdout",
     "output_type": "stream",
     "text": [
      "{'home_team': False, 'away_team': True, 'country': 'Australia', 'num_passes': 390, 'passes_completed': 332, 'fouls_committed': 19, 'colors': ['green', 'gold'], 'players': [{'name': 'Mathew RYAN', 'captain': False, 'shirt_number': 1, 'position': 'Goalie'}, {'name': 'Mark MILLIGAN', 'captain': False, 'shirt_number': 5, 'position': 'Defender'}, {'name': 'Mathew LECKIE', 'captain': False, 'shirt_number': 7, 'position': 'Forward'}, {'name': 'Robbie KRUSE', 'captain': False, 'shirt_number': 10, 'position': 'Forward'}, {'name': 'Andrew NABBOUT', 'captain': False, 'shirt_number': 11, 'position': 'Forward'}, {'name': 'Aaron MOOY', 'captain': False, 'shirt_number': 13, 'position': 'Midfield'}, {'name': 'Mile JEDINAK', 'captain': True, 'shirt_number': 15, 'position': 'Midfield'}, {'name': 'Aziz BEHICH', 'captain': False, 'shirt_number': 16, 'position': 'Defender'}, {'name': 'Joshua RISDON', 'captain': False, 'shirt_number': 19, 'position': 'Defender'}, {'name': 'Trent SAINSBURY', 'captain': False, 'shirt_number': 20, 'position': 'Defender'}, {'name': 'Tom ROGIC', 'captain': False, 'shirt_number': 23, 'position': 'Midfield'}]}\n"
     ]
    },
    {
     "data": {
      "text/plain": [
       "[{'name': 'Mathew RYAN',\n",
       "  'captain': False,\n",
       "  'shirt_number': 1,\n",
       "  'position': 'Goalie'},\n",
       " {'name': 'Mark MILLIGAN',\n",
       "  'captain': False,\n",
       "  'shirt_number': 5,\n",
       "  'position': 'Defender'},\n",
       " {'name': 'Mathew LECKIE',\n",
       "  'captain': False,\n",
       "  'shirt_number': 7,\n",
       "  'position': 'Forward'},\n",
       " {'name': 'Robbie KRUSE',\n",
       "  'captain': False,\n",
       "  'shirt_number': 10,\n",
       "  'position': 'Forward'},\n",
       " {'name': 'Andrew NABBOUT',\n",
       "  'captain': False,\n",
       "  'shirt_number': 11,\n",
       "  'position': 'Forward'},\n",
       " {'name': 'Aaron MOOY',\n",
       "  'captain': False,\n",
       "  'shirt_number': 13,\n",
       "  'position': 'Midfield'},\n",
       " {'name': 'Mile JEDINAK',\n",
       "  'captain': True,\n",
       "  'shirt_number': 15,\n",
       "  'position': 'Midfield'},\n",
       " {'name': 'Aziz BEHICH',\n",
       "  'captain': False,\n",
       "  'shirt_number': 16,\n",
       "  'position': 'Defender'},\n",
       " {'name': 'Joshua RISDON',\n",
       "  'captain': False,\n",
       "  'shirt_number': 19,\n",
       "  'position': 'Defender'},\n",
       " {'name': 'Trent SAINSBURY',\n",
       "  'captain': False,\n",
       "  'shirt_number': 20,\n",
       "  'position': 'Defender'},\n",
       " {'name': 'Tom ROGIC',\n",
       "  'captain': False,\n",
       "  'shirt_number': 23,\n",
       "  'position': 'Midfield'}]"
      ]
     },
     "execution_count": 29,
     "metadata": {},
     "output_type": "execute_result"
    }
   ],
   "source": [
    "print(soccer_match[1])\n",
    "soccer_match[1]['players']"
   ]
  },
  {
   "cell_type": "code",
   "execution_count": 38,
   "metadata": {
    "ExecuteTime": {
     "end_time": "2020-07-22T15:09:45.415086Z",
     "start_time": "2020-07-22T15:09:45.407109Z"
    }
   },
   "outputs": [
    {
     "name": "stdout",
     "output_type": "stream",
     "text": [
      "{'home_team': True, 'away_team': False, 'country': 'France', 'num_passes': 484, 'passes_completed': 423, 'fouls_committed': 16, 'colors': ['blue', 'white', 'red'], 'players': [{'name': 'Hugo LLORIS', 'captain': True, 'shirt_number': 1, 'position': 'Goalie'}, {'name': 'Benjamin PAVARD', 'captain': False, 'shirt_number': 2, 'position': 'Defender'}, {'name': 'Raphael VARANE', 'captain': False, 'shirt_number': 4, 'position': 'Defender'}, {'name': 'Samuel UMTITI', 'captain': False, 'shirt_number': 5, 'position': 'Defender'}, {'name': 'Paul POGBA', 'captain': False, 'shirt_number': 6, 'position': 'Midfield'}, {'name': 'Antoine GRIEZMANN', 'captain': False, 'shirt_number': 7, 'position': 'Forward'}, {'name': 'Kylian MBAPPE', 'captain': False, 'shirt_number': 10, 'position': 'Forward'}, {'name': 'Ousmane DEMBELE', 'captain': False, 'shirt_number': 11, 'position': 'Forward'}, {'name': 'Corentin TOLISSO', 'captain': False, 'shirt_number': 12, 'position': 'Midfield'}, {'name': 'Ngolo KANTE', 'captain': False, 'shirt_number': 13, 'position': 'Midfield'}, {'name': 'Lucas HERNANDEZ', 'captain': False, 'shirt_number': 21, 'position': 'Defender'}]}\n",
      "{'home_team': False, 'away_team': True, 'country': 'Australia', 'num_passes': 390, 'passes_completed': 332, 'fouls_committed': 19, 'colors': ['green', 'gold'], 'players': [{'name': 'Mathew RYAN', 'captain': False, 'shirt_number': 1, 'position': 'Goalie'}, {'name': 'Mark MILLIGAN', 'captain': False, 'shirt_number': 5, 'position': 'Defender'}, {'name': 'Mathew LECKIE', 'captain': False, 'shirt_number': 7, 'position': 'Forward'}, {'name': 'Robbie KRUSE', 'captain': False, 'shirt_number': 10, 'position': 'Forward'}, {'name': 'Andrew NABBOUT', 'captain': False, 'shirt_number': 11, 'position': 'Forward'}, {'name': 'Aaron MOOY', 'captain': False, 'shirt_number': 13, 'position': 'Midfield'}, {'name': 'Mile JEDINAK', 'captain': True, 'shirt_number': 15, 'position': 'Midfield'}, {'name': 'Aziz BEHICH', 'captain': False, 'shirt_number': 16, 'position': 'Defender'}, {'name': 'Joshua RISDON', 'captain': False, 'shirt_number': 19, 'position': 'Defender'}, {'name': 'Trent SAINSBURY', 'captain': False, 'shirt_number': 20, 'position': 'Defender'}, {'name': 'Tom ROGIC', 'captain': False, 'shirt_number': 23, 'position': 'Midfield'}]}\n"
     ]
    },
    {
     "data": {
      "text/plain": [
       "dict_values([False, True, 'Australia', 390, 332, 19, ['green', 'gold'], [{'name': 'Mathew RYAN', 'captain': False, 'shirt_number': 1, 'position': 'Goalie'}, {'name': 'Mark MILLIGAN', 'captain': False, 'shirt_number': 5, 'position': 'Defender'}, {'name': 'Mathew LECKIE', 'captain': False, 'shirt_number': 7, 'position': 'Forward'}, {'name': 'Robbie KRUSE', 'captain': False, 'shirt_number': 10, 'position': 'Forward'}, {'name': 'Andrew NABBOUT', 'captain': False, 'shirt_number': 11, 'position': 'Forward'}, {'name': 'Aaron MOOY', 'captain': False, 'shirt_number': 13, 'position': 'Midfield'}, {'name': 'Mile JEDINAK', 'captain': True, 'shirt_number': 15, 'position': 'Midfield'}, {'name': 'Aziz BEHICH', 'captain': False, 'shirt_number': 16, 'position': 'Defender'}, {'name': 'Joshua RISDON', 'captain': False, 'shirt_number': 19, 'position': 'Defender'}, {'name': 'Trent SAINSBURY', 'captain': False, 'shirt_number': 20, 'position': 'Defender'}, {'name': 'Tom ROGIC', 'captain': False, 'shirt_number': 23, 'position': 'Midfield'}]])"
      ]
     },
     "execution_count": 38,
     "metadata": {},
     "output_type": "execute_result"
    }
   ],
   "source": [
    "print(soccer_match[0])\n",
    "soccer_match[0].values()\n",
    "print(soccer_match[1])\n",
    "soccer_match[1].values()"
   ]
  },
  {
   "cell_type": "code",
   "execution_count": 40,
   "metadata": {
    "ExecuteTime": {
     "end_time": "2020-07-22T16:26:17.315595Z",
     "start_time": "2020-07-22T16:26:17.310601Z"
    }
   },
   "outputs": [
    {
     "name": "stdout",
     "output_type": "stream",
     "text": [
      "{'home_team': True, 'away_team': False, 'country': 'France', 'num_passes': 484, 'passes_completed': 423, 'fouls_committed': 16, 'colors': ['blue', 'white', 'red'], 'players': [{'name': 'Hugo LLORIS', 'captain': True, 'shirt_number': 1, 'position': 'Goalie'}, {'name': 'Benjamin PAVARD', 'captain': False, 'shirt_number': 2, 'position': 'Defender'}, {'name': 'Raphael VARANE', 'captain': False, 'shirt_number': 4, 'position': 'Defender'}, {'name': 'Samuel UMTITI', 'captain': False, 'shirt_number': 5, 'position': 'Defender'}, {'name': 'Paul POGBA', 'captain': False, 'shirt_number': 6, 'position': 'Midfield'}, {'name': 'Antoine GRIEZMANN', 'captain': False, 'shirt_number': 7, 'position': 'Forward'}, {'name': 'Kylian MBAPPE', 'captain': False, 'shirt_number': 10, 'position': 'Forward'}, {'name': 'Ousmane DEMBELE', 'captain': False, 'shirt_number': 11, 'position': 'Forward'}, {'name': 'Corentin TOLISSO', 'captain': False, 'shirt_number': 12, 'position': 'Midfield'}, {'name': 'Ngolo KANTE', 'captain': False, 'shirt_number': 13, 'position': 'Midfield'}, {'name': 'Lucas HERNANDEZ', 'captain': False, 'shirt_number': 21, 'position': 'Defender'}]}\n",
      "<class 'dict'>\n"
     ]
    }
   ],
   "source": [
    "print(soccer_match[0])\n",
    "print(type(soccer_match[0]))"
   ]
  },
  {
   "cell_type": "code",
   "execution_count": 42,
   "metadata": {
    "ExecuteTime": {
     "end_time": "2020-07-22T16:31:56.316858Z",
     "start_time": "2020-07-22T16:31:56.310861Z"
    }
   },
   "outputs": [],
   "source": [
    "def count_odd_shirts(team):\n",
    "    print(team)"
   ]
  },
  {
   "cell_type": "code",
   "execution_count": 44,
   "metadata": {
    "ExecuteTime": {
     "end_time": "2020-07-22T16:42:43.035895Z",
     "start_time": "2020-07-22T16:42:43.031899Z"
    }
   },
   "outputs": [
    {
     "name": "stdout",
     "output_type": "stream",
     "text": [
      "{'home_team': True, 'away_team': False, 'country': 'France', 'num_passes': 484, 'passes_completed': 423, 'fouls_committed': 16, 'colors': ['blue', 'white', 'red'], 'players': [{'name': 'Hugo LLORIS', 'captain': True, 'shirt_number': 1, 'position': 'Goalie'}, {'name': 'Benjamin PAVARD', 'captain': False, 'shirt_number': 2, 'position': 'Defender'}, {'name': 'Raphael VARANE', 'captain': False, 'shirt_number': 4, 'position': 'Defender'}, {'name': 'Samuel UMTITI', 'captain': False, 'shirt_number': 5, 'position': 'Defender'}, {'name': 'Paul POGBA', 'captain': False, 'shirt_number': 6, 'position': 'Midfield'}, {'name': 'Antoine GRIEZMANN', 'captain': False, 'shirt_number': 7, 'position': 'Forward'}, {'name': 'Kylian MBAPPE', 'captain': False, 'shirt_number': 10, 'position': 'Forward'}, {'name': 'Ousmane DEMBELE', 'captain': False, 'shirt_number': 11, 'position': 'Forward'}, {'name': 'Corentin TOLISSO', 'captain': False, 'shirt_number': 12, 'position': 'Midfield'}, {'name': 'Ngolo KANTE', 'captain': False, 'shirt_number': 13, 'position': 'Midfield'}, {'name': 'Lucas HERNANDEZ', 'captain': False, 'shirt_number': 21, 'position': 'Defender'}]}\n"
     ]
    }
   ],
   "source": [
    "count_odd_shirts(soccer_match[0])"
   ]
  },
  {
   "cell_type": "code",
   "execution_count": 45,
   "metadata": {
    "ExecuteTime": {
     "end_time": "2020-07-22T16:43:36.925659Z",
     "start_time": "2020-07-22T16:43:36.920660Z"
    }
   },
   "outputs": [
    {
     "name": "stdout",
     "output_type": "stream",
     "text": [
      "{'home_team': False, 'away_team': True, 'country': 'Australia', 'num_passes': 390, 'passes_completed': 332, 'fouls_committed': 19, 'colors': ['green', 'gold'], 'players': [{'name': 'Mathew RYAN', 'captain': False, 'shirt_number': 1, 'position': 'Goalie'}, {'name': 'Mark MILLIGAN', 'captain': False, 'shirt_number': 5, 'position': 'Defender'}, {'name': 'Mathew LECKIE', 'captain': False, 'shirt_number': 7, 'position': 'Forward'}, {'name': 'Robbie KRUSE', 'captain': False, 'shirt_number': 10, 'position': 'Forward'}, {'name': 'Andrew NABBOUT', 'captain': False, 'shirt_number': 11, 'position': 'Forward'}, {'name': 'Aaron MOOY', 'captain': False, 'shirt_number': 13, 'position': 'Midfield'}, {'name': 'Mile JEDINAK', 'captain': True, 'shirt_number': 15, 'position': 'Midfield'}, {'name': 'Aziz BEHICH', 'captain': False, 'shirt_number': 16, 'position': 'Defender'}, {'name': 'Joshua RISDON', 'captain': False, 'shirt_number': 19, 'position': 'Defender'}, {'name': 'Trent SAINSBURY', 'captain': False, 'shirt_number': 20, 'position': 'Defender'}, {'name': 'Tom ROGIC', 'captain': False, 'shirt_number': 23, 'position': 'Midfield'}]}\n"
     ]
    }
   ],
   "source": [
    "count_odd_shirts(soccer_match[1])"
   ]
  },
  {
   "cell_type": "code",
   "execution_count": 47,
   "metadata": {
    "ExecuteTime": {
     "end_time": "2020-07-22T16:45:03.744980Z",
     "start_time": "2020-07-22T16:45:03.739983Z"
    },
    "scrolled": true
   },
   "outputs": [
    {
     "name": "stdout",
     "output_type": "stream",
     "text": [
      "[{'home_team': True, 'away_team': False, 'country': 'France', 'num_passes': 484, 'passes_completed': 423, 'fouls_committed': 16, 'colors': ['blue', 'white', 'red'], 'players': [{'name': 'Hugo LLORIS', 'captain': True, 'shirt_number': 1, 'position': 'Goalie'}, {'name': 'Benjamin PAVARD', 'captain': False, 'shirt_number': 2, 'position': 'Defender'}, {'name': 'Raphael VARANE', 'captain': False, 'shirt_number': 4, 'position': 'Defender'}, {'name': 'Samuel UMTITI', 'captain': False, 'shirt_number': 5, 'position': 'Defender'}, {'name': 'Paul POGBA', 'captain': False, 'shirt_number': 6, 'position': 'Midfield'}, {'name': 'Antoine GRIEZMANN', 'captain': False, 'shirt_number': 7, 'position': 'Forward'}, {'name': 'Kylian MBAPPE', 'captain': False, 'shirt_number': 10, 'position': 'Forward'}, {'name': 'Ousmane DEMBELE', 'captain': False, 'shirt_number': 11, 'position': 'Forward'}, {'name': 'Corentin TOLISSO', 'captain': False, 'shirt_number': 12, 'position': 'Midfield'}, {'name': 'Ngolo KANTE', 'captain': False, 'shirt_number': 13, 'position': 'Midfield'}, {'name': 'Lucas HERNANDEZ', 'captain': False, 'shirt_number': 21, 'position': 'Defender'}]}, {'home_team': False, 'away_team': True, 'country': 'Australia', 'num_passes': 390, 'passes_completed': 332, 'fouls_committed': 19, 'colors': ['green', 'gold'], 'players': [{'name': 'Mathew RYAN', 'captain': False, 'shirt_number': 1, 'position': 'Goalie'}, {'name': 'Mark MILLIGAN', 'captain': False, 'shirt_number': 5, 'position': 'Defender'}, {'name': 'Mathew LECKIE', 'captain': False, 'shirt_number': 7, 'position': 'Forward'}, {'name': 'Robbie KRUSE', 'captain': False, 'shirt_number': 10, 'position': 'Forward'}, {'name': 'Andrew NABBOUT', 'captain': False, 'shirt_number': 11, 'position': 'Forward'}, {'name': 'Aaron MOOY', 'captain': False, 'shirt_number': 13, 'position': 'Midfield'}, {'name': 'Mile JEDINAK', 'captain': True, 'shirt_number': 15, 'position': 'Midfield'}, {'name': 'Aziz BEHICH', 'captain': False, 'shirt_number': 16, 'position': 'Defender'}, {'name': 'Joshua RISDON', 'captain': False, 'shirt_number': 19, 'position': 'Defender'}, {'name': 'Trent SAINSBURY', 'captain': False, 'shirt_number': 20, 'position': 'Defender'}, {'name': 'Tom ROGIC', 'captain': False, 'shirt_number': 23, 'position': 'Midfield'}]}]\n"
     ]
    }
   ],
   "source": [
    "count_odd_shirts(soccer_match)"
   ]
  },
  {
   "cell_type": "code",
   "execution_count": 48,
   "metadata": {
    "ExecuteTime": {
     "end_time": "2020-07-22T16:47:13.603057Z",
     "start_time": "2020-07-22T16:47:13.597064Z"
    }
   },
   "outputs": [],
   "source": [
    "def count_odd_shirts(team):\n",
    "    print(team['players'])"
   ]
  },
  {
   "cell_type": "code",
   "execution_count": 50,
   "metadata": {
    "ExecuteTime": {
     "end_time": "2020-07-22T16:53:41.342759Z",
     "start_time": "2020-07-22T16:53:41.338779Z"
    }
   },
   "outputs": [
    {
     "name": "stdout",
     "output_type": "stream",
     "text": [
      "[{'name': 'Hugo LLORIS', 'captain': True, 'shirt_number': 1, 'position': 'Goalie'}, {'name': 'Benjamin PAVARD', 'captain': False, 'shirt_number': 2, 'position': 'Defender'}, {'name': 'Raphael VARANE', 'captain': False, 'shirt_number': 4, 'position': 'Defender'}, {'name': 'Samuel UMTITI', 'captain': False, 'shirt_number': 5, 'position': 'Defender'}, {'name': 'Paul POGBA', 'captain': False, 'shirt_number': 6, 'position': 'Midfield'}, {'name': 'Antoine GRIEZMANN', 'captain': False, 'shirt_number': 7, 'position': 'Forward'}, {'name': 'Kylian MBAPPE', 'captain': False, 'shirt_number': 10, 'position': 'Forward'}, {'name': 'Ousmane DEMBELE', 'captain': False, 'shirt_number': 11, 'position': 'Forward'}, {'name': 'Corentin TOLISSO', 'captain': False, 'shirt_number': 12, 'position': 'Midfield'}, {'name': 'Ngolo KANTE', 'captain': False, 'shirt_number': 13, 'position': 'Midfield'}, {'name': 'Lucas HERNANDEZ', 'captain': False, 'shirt_number': 21, 'position': 'Defender'}]\n"
     ]
    }
   ],
   "source": [
    "count_odd_shirts(soccer_match[0])"
   ]
  },
  {
   "cell_type": "code",
   "execution_count": 51,
   "metadata": {
    "ExecuteTime": {
     "end_time": "2020-07-22T16:54:46.258780Z",
     "start_time": "2020-07-22T16:54:46.252783Z"
    }
   },
   "outputs": [
    {
     "name": "stdout",
     "output_type": "stream",
     "text": [
      "[{'name': 'Mathew RYAN', 'captain': False, 'shirt_number': 1, 'position': 'Goalie'}, {'name': 'Mark MILLIGAN', 'captain': False, 'shirt_number': 5, 'position': 'Defender'}, {'name': 'Mathew LECKIE', 'captain': False, 'shirt_number': 7, 'position': 'Forward'}, {'name': 'Robbie KRUSE', 'captain': False, 'shirt_number': 10, 'position': 'Forward'}, {'name': 'Andrew NABBOUT', 'captain': False, 'shirt_number': 11, 'position': 'Forward'}, {'name': 'Aaron MOOY', 'captain': False, 'shirt_number': 13, 'position': 'Midfield'}, {'name': 'Mile JEDINAK', 'captain': True, 'shirt_number': 15, 'position': 'Midfield'}, {'name': 'Aziz BEHICH', 'captain': False, 'shirt_number': 16, 'position': 'Defender'}, {'name': 'Joshua RISDON', 'captain': False, 'shirt_number': 19, 'position': 'Defender'}, {'name': 'Trent SAINSBURY', 'captain': False, 'shirt_number': 20, 'position': 'Defender'}, {'name': 'Tom ROGIC', 'captain': False, 'shirt_number': 23, 'position': 'Midfield'}]\n"
     ]
    }
   ],
   "source": [
    "count_odd_shirts(soccer_match[1])"
   ]
  },
  {
   "cell_type": "code",
   "execution_count": 52,
   "metadata": {
    "ExecuteTime": {
     "end_time": "2020-07-22T17:17:17.926993Z",
     "start_time": "2020-07-22T17:17:17.921995Z"
    }
   },
   "outputs": [],
   "source": [
    "def count_odd_shirts(team):\n",
    "    print(team['players'])\n",
    "    print(type(team['players']))\n",
    "    print(len(team['players']))"
   ]
  },
  {
   "cell_type": "code",
   "execution_count": 53,
   "metadata": {
    "ExecuteTime": {
     "end_time": "2020-07-22T17:17:40.561433Z",
     "start_time": "2020-07-22T17:17:40.556438Z"
    }
   },
   "outputs": [
    {
     "name": "stdout",
     "output_type": "stream",
     "text": [
      "[{'name': 'Mathew RYAN', 'captain': False, 'shirt_number': 1, 'position': 'Goalie'}, {'name': 'Mark MILLIGAN', 'captain': False, 'shirt_number': 5, 'position': 'Defender'}, {'name': 'Mathew LECKIE', 'captain': False, 'shirt_number': 7, 'position': 'Forward'}, {'name': 'Robbie KRUSE', 'captain': False, 'shirt_number': 10, 'position': 'Forward'}, {'name': 'Andrew NABBOUT', 'captain': False, 'shirt_number': 11, 'position': 'Forward'}, {'name': 'Aaron MOOY', 'captain': False, 'shirt_number': 13, 'position': 'Midfield'}, {'name': 'Mile JEDINAK', 'captain': True, 'shirt_number': 15, 'position': 'Midfield'}, {'name': 'Aziz BEHICH', 'captain': False, 'shirt_number': 16, 'position': 'Defender'}, {'name': 'Joshua RISDON', 'captain': False, 'shirt_number': 19, 'position': 'Defender'}, {'name': 'Trent SAINSBURY', 'captain': False, 'shirt_number': 20, 'position': 'Defender'}, {'name': 'Tom ROGIC', 'captain': False, 'shirt_number': 23, 'position': 'Midfield'}]\n",
      "<class 'list'>\n",
      "11\n"
     ]
    }
   ],
   "source": [
    "count_odd_shirts(soccer_match[1])"
   ]
  },
  {
   "cell_type": "code",
   "execution_count": 54,
   "metadata": {
    "ExecuteTime": {
     "end_time": "2020-07-22T17:27:48.279124Z",
     "start_time": "2020-07-22T17:27:48.275124Z"
    }
   },
   "outputs": [],
   "source": [
    "def count_odd_shirts(team):\n",
    "    for player in team['players']:\n",
    "        print(player)\n",
    "    \n",
    "    "
   ]
  },
  {
   "cell_type": "code",
   "execution_count": 55,
   "metadata": {
    "ExecuteTime": {
     "end_time": "2020-07-22T17:28:49.387544Z",
     "start_time": "2020-07-22T17:28:49.382547Z"
    }
   },
   "outputs": [
    {
     "name": "stdout",
     "output_type": "stream",
     "text": [
      "{'name': 'Mathew RYAN', 'captain': False, 'shirt_number': 1, 'position': 'Goalie'}\n",
      "{'name': 'Mark MILLIGAN', 'captain': False, 'shirt_number': 5, 'position': 'Defender'}\n",
      "{'name': 'Mathew LECKIE', 'captain': False, 'shirt_number': 7, 'position': 'Forward'}\n",
      "{'name': 'Robbie KRUSE', 'captain': False, 'shirt_number': 10, 'position': 'Forward'}\n",
      "{'name': 'Andrew NABBOUT', 'captain': False, 'shirt_number': 11, 'position': 'Forward'}\n",
      "{'name': 'Aaron MOOY', 'captain': False, 'shirt_number': 13, 'position': 'Midfield'}\n",
      "{'name': 'Mile JEDINAK', 'captain': True, 'shirt_number': 15, 'position': 'Midfield'}\n",
      "{'name': 'Aziz BEHICH', 'captain': False, 'shirt_number': 16, 'position': 'Defender'}\n",
      "{'name': 'Joshua RISDON', 'captain': False, 'shirt_number': 19, 'position': 'Defender'}\n",
      "{'name': 'Trent SAINSBURY', 'captain': False, 'shirt_number': 20, 'position': 'Defender'}\n",
      "{'name': 'Tom ROGIC', 'captain': False, 'shirt_number': 23, 'position': 'Midfield'}\n"
     ]
    }
   ],
   "source": [
    "count_odd_shirts(soccer_match[1])"
   ]
  },
  {
   "cell_type": "code",
   "execution_count": 56,
   "metadata": {
    "ExecuteTime": {
     "end_time": "2020-07-22T17:29:09.444136Z",
     "start_time": "2020-07-22T17:29:09.438140Z"
    },
    "scrolled": true
   },
   "outputs": [
    {
     "name": "stdout",
     "output_type": "stream",
     "text": [
      "{'name': 'Hugo LLORIS', 'captain': True, 'shirt_number': 1, 'position': 'Goalie'}\n",
      "{'name': 'Benjamin PAVARD', 'captain': False, 'shirt_number': 2, 'position': 'Defender'}\n",
      "{'name': 'Raphael VARANE', 'captain': False, 'shirt_number': 4, 'position': 'Defender'}\n",
      "{'name': 'Samuel UMTITI', 'captain': False, 'shirt_number': 5, 'position': 'Defender'}\n",
      "{'name': 'Paul POGBA', 'captain': False, 'shirt_number': 6, 'position': 'Midfield'}\n",
      "{'name': 'Antoine GRIEZMANN', 'captain': False, 'shirt_number': 7, 'position': 'Forward'}\n",
      "{'name': 'Kylian MBAPPE', 'captain': False, 'shirt_number': 10, 'position': 'Forward'}\n",
      "{'name': 'Ousmane DEMBELE', 'captain': False, 'shirt_number': 11, 'position': 'Forward'}\n",
      "{'name': 'Corentin TOLISSO', 'captain': False, 'shirt_number': 12, 'position': 'Midfield'}\n",
      "{'name': 'Ngolo KANTE', 'captain': False, 'shirt_number': 13, 'position': 'Midfield'}\n",
      "{'name': 'Lucas HERNANDEZ', 'captain': False, 'shirt_number': 21, 'position': 'Defender'}\n"
     ]
    }
   ],
   "source": [
    "count_odd_shirts(soccer_match[0])"
   ]
  },
  {
   "cell_type": "code",
   "execution_count": 57,
   "metadata": {
    "ExecuteTime": {
     "end_time": "2020-07-22T17:32:38.416415Z",
     "start_time": "2020-07-22T17:32:38.410419Z"
    }
   },
   "outputs": [],
   "source": [
    "def count_odd_shirts(team):\n",
    "    for player in team['players']:\n",
    "        print(player['shirt_number'])"
   ]
  },
  {
   "cell_type": "code",
   "execution_count": 58,
   "metadata": {
    "ExecuteTime": {
     "end_time": "2020-07-22T17:33:44.425114Z",
     "start_time": "2020-07-22T17:33:44.419122Z"
    }
   },
   "outputs": [
    {
     "name": "stdout",
     "output_type": "stream",
     "text": [
      "1\n",
      "2\n",
      "4\n",
      "5\n",
      "6\n",
      "7\n",
      "10\n",
      "11\n",
      "12\n",
      "13\n",
      "21\n",
      "1\n",
      "5\n",
      "7\n",
      "10\n",
      "11\n",
      "13\n",
      "15\n",
      "16\n",
      "19\n",
      "20\n",
      "23\n"
     ]
    }
   ],
   "source": [
    "count_odd_shirts(soccer_match[0])\n",
    "count_odd_shirts(soccer_match[1])"
   ]
  },
  {
   "cell_type": "code",
   "execution_count": 59,
   "metadata": {
    "ExecuteTime": {
     "end_time": "2020-07-22T17:34:26.384153Z",
     "start_time": "2020-07-22T17:34:26.378157Z"
    }
   },
   "outputs": [
    {
     "name": "stdout",
     "output_type": "stream",
     "text": [
      "1\n",
      "5\n",
      "7\n",
      "10\n",
      "11\n",
      "13\n",
      "15\n",
      "16\n",
      "19\n",
      "20\n",
      "23\n"
     ]
    }
   ],
   "source": [
    "count_odd_shirts(soccer_match[1])"
   ]
  },
  {
   "cell_type": "code",
   "execution_count": 60,
   "metadata": {
    "ExecuteTime": {
     "end_time": "2020-07-22T17:34:38.876751Z",
     "start_time": "2020-07-22T17:34:38.870759Z"
    },
    "scrolled": true
   },
   "outputs": [
    {
     "name": "stdout",
     "output_type": "stream",
     "text": [
      "1\n",
      "2\n",
      "4\n",
      "5\n",
      "6\n",
      "7\n",
      "10\n",
      "11\n",
      "12\n",
      "13\n",
      "21\n"
     ]
    }
   ],
   "source": [
    "count_odd_shirts(soccer_match[0])"
   ]
  },
  {
   "cell_type": "code",
   "execution_count": 67,
   "metadata": {
    "ExecuteTime": {
     "end_time": "2020-07-22T18:37:17.512348Z",
     "start_time": "2020-07-22T18:37:17.504369Z"
    }
   },
   "outputs": [],
   "source": [
    "def count_odd_shirts(team):\n",
    "    odd_count = 0\n",
    "    for player in team['players']:\n",
    "        if player['shirt_number'] % 2 != 0:\n",
    "           odd_count += 1\n",
    "    return odd_count"
   ]
  },
  {
   "cell_type": "code",
   "execution_count": 68,
   "metadata": {
    "ExecuteTime": {
     "end_time": "2020-07-22T18:37:21.897052Z",
     "start_time": "2020-07-22T18:37:21.881052Z"
    }
   },
   "outputs": [
    {
     "data": {
      "text/plain": [
       "6"
      ]
     },
     "execution_count": 68,
     "metadata": {},
     "output_type": "execute_result"
    }
   ],
   "source": [
    "count_odd_shirts(soccer_match[0])"
   ]
  },
  {
   "cell_type": "code",
   "execution_count": 1,
   "metadata": {
    "ExecuteTime": {
     "end_time": "2020-07-23T13:39:25.101870Z",
     "start_time": "2020-07-23T13:39:25.093871Z"
    }
   },
   "outputs": [
    {
     "name": "stdout",
     "output_type": "stream",
     "text": [
      "1\n",
      "2\n",
      "This is a new shirt number\n"
     ]
    }
   ],
   "source": [
    "shirt_number = 1\n",
    "while shirt_number < 3:\n",
    "    print (shirt_number)\n",
    "    shirt_number +=1\n",
    "print(\"This is a new shirt number\")"
   ]
  },
  {
   "cell_type": "code",
   "execution_count": 2,
   "metadata": {
    "ExecuteTime": {
     "end_time": "2020-07-23T13:42:00.967148Z",
     "start_time": "2020-07-23T13:42:00.951149Z"
    }
   },
   "outputs": [
    {
     "name": "stdout",
     "output_type": "stream",
     "text": [
      "1\n",
      "This is a new shirt number\n",
      "2\n",
      "This is a new shirt number\n"
     ]
    }
   ],
   "source": [
    "shirt_number = 1\n",
    "while shirt_number < 3:\n",
    "    print (shirt_number)\n",
    "    shirt_number +=1\n",
    "    print(\"This is a new shirt number\")"
   ]
  },
  {
   "cell_type": "markdown",
   "metadata": {},
   "source": [
    "#### loop from 1 to 10 use < and +=\n",
    "#### loop from 10 to 1 use > and -= "
   ]
  },
  {
   "cell_type": "code",
   "execution_count": null,
   "metadata": {},
   "outputs": [],
   "source": []
  },
  {
   "cell_type": "code",
   "execution_count": 4,
   "metadata": {
    "ExecuteTime": {
     "end_time": "2020-07-23T15:18:41.218598Z",
     "start_time": "2020-07-23T15:18:41.212602Z"
    }
   },
   "outputs": [
    {
     "name": "stdout",
     "output_type": "stream",
     "text": [
      "71\n",
      "66\n",
      "61\n",
      "56\n",
      "51\n",
      "46\n",
      "41\n",
      "36\n",
      "31\n",
      "26\n",
      "21\n"
     ]
    }
   ],
   "source": [
    "import numpy as np\n",
    "random_shirt = np.random.randint(26,100)\n",
    "while random_shirt > 25:\n",
    "    random_shirt -=5\n",
    "    print(random_shirt)"
   ]
  },
  {
   "cell_type": "markdown",
   "metadata": {},
   "source": [
    "#### Write a function that counts how many players have even shirt numbers:"
   ]
  },
  {
   "cell_type": "code",
   "execution_count": null,
   "metadata": {},
   "outputs": [],
   "source": []
  },
  {
   "cell_type": "markdown",
   "metadata": {},
   "source": [
    "#### Write a function that appends player names and shirt numbers to a list until the sum of shirt numbers reach 100:\n",
    "\n",
    "try it two ways, using: (1) a while loop and (2) a for loop with a break"
   ]
  },
  {
   "cell_type": "code",
   "execution_count": null,
   "metadata": {},
   "outputs": [],
   "source": []
  },
  {
   "cell_type": "code",
   "execution_count": null,
   "metadata": {},
   "outputs": [],
   "source": []
  },
  {
   "cell_type": "markdown",
   "metadata": {},
   "source": [
    "## Statistics\n",
    "\n",
    "* Measures of central tendency\n",
    "    * What are some situations you might want to use mean vs median vs mode?\n",
    "    \n",
    "* Measures of dispersion\n",
    "    * Quartiles/Percentiles\n",
    "    * Variance & standard deviation"
   ]
  }
 ],
 "metadata": {
  "kernelspec": {
   "display_name": "Python 3",
   "language": "python",
   "name": "python3"
  },
  "language_info": {
   "codemirror_mode": {
    "name": "ipython",
    "version": 3
   },
   "file_extension": ".py",
   "mimetype": "text/x-python",
   "name": "python",
   "nbconvert_exporter": "python",
   "pygments_lexer": "ipython3",
   "version": "3.6.9"
  },
  "toc": {
   "base_numbering": 1,
   "nav_menu": {},
   "number_sections": false,
   "sideBar": true,
   "skip_h1_title": false,
   "title_cell": "Table of Contents",
   "title_sidebar": "Contents",
   "toc_cell": false,
   "toc_position": {},
   "toc_section_display": true,
   "toc_window_display": false
  },
  "varInspector": {
   "cols": {
    "lenName": 16,
    "lenType": 16,
    "lenVar": 40
   },
   "kernels_config": {
    "python": {
     "delete_cmd_postfix": "",
     "delete_cmd_prefix": "del ",
     "library": "var_list.py",
     "varRefreshCmd": "print(var_dic_list())"
    },
    "r": {
     "delete_cmd_postfix": ") ",
     "delete_cmd_prefix": "rm(",
     "library": "var_list.r",
     "varRefreshCmd": "cat(var_dic_list()) "
    }
   },
   "types_to_exclude": [
    "module",
    "function",
    "builtin_function_or_method",
    "instance",
    "_Feature"
   ],
   "window_display": false
  }
 },
 "nbformat": 4,
 "nbformat_minor": 4
}
